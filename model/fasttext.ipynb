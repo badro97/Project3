{
  "cells": [
    {
      "cell_type": "code",
      "execution_count": 64,
      "metadata": {
        "id": "O21-XDb77yBP"
      },
      "outputs": [
        {
          "ename": "ModuleNotFoundError",
          "evalue": "No module named 'google'",
          "output_type": "error",
          "traceback": [
            "\u001b[0;31m---------------------------------------------------------------------------\u001b[0m",
            "\u001b[0;31mModuleNotFoundError\u001b[0m                       Traceback (most recent call last)",
            "Cell \u001b[0;32mIn[64], line 1\u001b[0m\n\u001b[0;32m----> 1\u001b[0m \u001b[39mfrom\u001b[39;00m \u001b[39mgoogle\u001b[39;00m\u001b[39m.\u001b[39;00m\u001b[39mcolab\u001b[39;00m \u001b[39mimport\u001b[39;00m drive\n\u001b[1;32m      2\u001b[0m drive\u001b[39m.\u001b[39mmount(\u001b[39m'\u001b[39m\u001b[39m/content/gdrive\u001b[39m\u001b[39m'\u001b[39m, force_remount\u001b[39m=\u001b[39m\u001b[39mTrue\u001b[39;00m)\n",
            "\u001b[0;31mModuleNotFoundError\u001b[0m: No module named 'google'"
          ]
        }
      ],
      "source": [
        "from google.colab import drive\n",
        "drive.mount('/content/gdrive', force_remount=True)"
      ]
    },
    {
      "cell_type": "code",
      "execution_count": null,
      "metadata": {
        "id": "TwwVdld08y8u"
      },
      "outputs": [],
      "source": [
        "# fasttext\n",
        "! pip install fasttext"
      ]
    },
    {
      "cell_type": "code",
      "execution_count": null,
      "metadata": {
        "id": "OKEyFNuF7Xk8"
      },
      "outputs": [],
      "source": [
        "import pandas as pd\n",
        "import numpy as np\n",
        "from sklearn.model_selection import train_test_split"
      ]
    },
    {
      "cell_type": "code",
      "execution_count": null,
      "metadata": {
        "id": "xVNvd-aj7dHk"
      },
      "outputs": [],
      "source": [
        "data = pd.read_csv('/Users/badro97/Section3/sprint3/project/Project3/real_finish.csv')"
      ]
    },
    {
      "cell_type": "code",
      "execution_count": null,
      "metadata": {
        "id": "T0Aovn2O7eQO"
      },
      "outputs": [],
      "source": [
        "# fasttext input_form 형식으로 변형\n",
        "Cat = data['category']+\"_\"+data['sub_category']\n",
        "cats = Cat.str.replace(\"/\",\" \")\n",
        "data['input_form'] = '__label__' + cats + ' ' + data['title']\n",
        "df = data[['input_form']]"
      ]
    },
    {
      "cell_type": "code",
      "execution_count": null,
      "metadata": {
        "id": "yOHawpEaqHIF"
      },
      "outputs": [
        {
          "data": {
            "text/html": [
              "<div>\n",
              "<style scoped>\n",
              "    .dataframe tbody tr th:only-of-type {\n",
              "        vertical-align: middle;\n",
              "    }\n",
              "\n",
              "    .dataframe tbody tr th {\n",
              "        vertical-align: top;\n",
              "    }\n",
              "\n",
              "    .dataframe thead th {\n",
              "        text-align: right;\n",
              "    }\n",
              "</style>\n",
              "<table border=\"1\" class=\"dataframe\">\n",
              "  <thead>\n",
              "    <tr style=\"text-align: right;\">\n",
              "      <th></th>\n",
              "      <th>input_form</th>\n",
              "    </tr>\n",
              "  </thead>\n",
              "  <tbody>\n",
              "    <tr>\n",
              "      <th>0</th>\n",
              "      <td>__label__김치_포기김치 국내산 배추 김치 포기 김장김치 주문</td>\n",
              "    </tr>\n",
              "    <tr>\n",
              "      <th>1</th>\n",
              "      <td>__label__김치_포기김치 피코크 조선호텔 포기김치</td>\n",
              "    </tr>\n",
              "    <tr>\n",
              "      <th>2</th>\n",
              "      <td>__label__김치_포기김치 대상 종가집 행복이온 포기김치</td>\n",
              "    </tr>\n",
              "    <tr>\n",
              "      <th>3</th>\n",
              "      <td>__label__김치_포기김치 대상 종가집 전라도 행복이온 포기김치</td>\n",
              "    </tr>\n",
              "    <tr>\n",
              "      <th>4</th>\n",
              "      <td>__label__김치_포기김치 선화동매운실비김치 맛있게 매운 선화동 실비 김치</td>\n",
              "    </tr>\n",
              "    <tr>\n",
              "      <th>...</th>\n",
              "      <td>...</td>\n",
              "    </tr>\n",
              "    <tr>\n",
              "      <th>205375</th>\n",
              "      <td>__label__밀키트_찌개 국 청정원 호밍스 사골 시래기 된장국</td>\n",
              "    </tr>\n",
              "    <tr>\n",
              "      <th>205376</th>\n",
              "      <td>__label__밀키트_찌개 국 먹템 매콤한 극락 캠핑음식 용밀 간편조리식품 키트</td>\n",
              "    </tr>\n",
              "    <tr>\n",
              "      <th>205377</th>\n",
              "      <td>__label__밀키트_찌개 국 연말축제 청정원 호밍스 한우진곰탕</td>\n",
              "    </tr>\n",
              "    <tr>\n",
              "      <th>205378</th>\n",
              "      <td>__label__밀키트_찌개 국 프레시지 간편한 직화용기 꼬치어묵탕</td>\n",
              "    </tr>\n",
              "    <tr>\n",
              "      <th>205379</th>\n",
              "      <td>__label__밀키트_찌개 국 팟쿡 어디서든 없이 조리 가능한 전골 비화식 캠핑 백패킹</td>\n",
              "    </tr>\n",
              "  </tbody>\n",
              "</table>\n",
              "<p>205380 rows × 1 columns</p>\n",
              "</div>"
            ],
            "text/plain": [
              "                                               input_form\n",
              "0                   __label__김치_포기김치 국내산 배추 김치 포기 김장김치 주문\n",
              "1                          __label__김치_포기김치 피코크 조선호텔 포기김치\n",
              "2                       __label__김치_포기김치 대상 종가집 행복이온 포기김치\n",
              "3                   __label__김치_포기김치 대상 종가집 전라도 행복이온 포기김치\n",
              "4             __label__김치_포기김치 선화동매운실비김치 맛있게 매운 선화동 실비 김치\n",
              "...                                                   ...\n",
              "205375               __label__밀키트_찌개 국 청정원 호밍스 사골 시래기 된장국\n",
              "205376      __label__밀키트_찌개 국 먹템 매콤한 극락 캠핑음식 용밀 간편조리식품 키트\n",
              "205377               __label__밀키트_찌개 국 연말축제 청정원 호밍스 한우진곰탕\n",
              "205378              __label__밀키트_찌개 국 프레시지 간편한 직화용기 꼬치어묵탕\n",
              "205379  __label__밀키트_찌개 국 팟쿡 어디서든 없이 조리 가능한 전골 비화식 캠핑 백패킹\n",
              "\n",
              "[205380 rows x 1 columns]"
            ]
          },
          "execution_count": 62,
          "metadata": {},
          "output_type": "execute_result"
        }
      ],
      "source": [
        "df"
      ]
    },
    {
      "cell_type": "code",
      "execution_count": null,
      "metadata": {},
      "outputs": [],
      "source": [
        "df.to_csv('input.csv', index=False)"
      ]
    },
    {
      "cell_type": "code",
      "execution_count": null,
      "metadata": {
        "id": "fy32z-SThUOx"
      },
      "outputs": [],
      "source": [
        "# train : val : test = 3 : 1 : 1\n",
        "train, test = train_test_split(df, test_size=0.20, shuffle=True, random_state=42)\n",
        "train, val = train_test_split(train, test_size=0.25, shuffle=True, random_state=42)\n",
        "train.reset_index(inplace=True)\n",
        "val.reset_index(inplace=True)\n",
        "test.reset_index(inplace=True)"
      ]
    },
    {
      "cell_type": "code",
      "execution_count": null,
      "metadata": {
        "id": "Ez15HmbMiHoE"
      },
      "outputs": [],
      "source": [
        "train.to_csv('train.csv', index=False, columns=['input_form'])\n",
        "val.to_csv('val.csv', index=False, columns=['input_form'])\n",
        "test.to_csv('test.csv', index=False, columns=['input_form'])"
      ]
    },
    {
      "cell_type": "code",
      "execution_count": null,
      "metadata": {
        "id": "Pcvg63h-j1Ae"
      },
      "outputs": [
        {
          "name": "stderr",
          "output_type": "stream",
          "text": [
            "Read 0M words\n",
            "Number of words:  86089\n",
            "Number of labels: 108\n",
            "Progress: 100.0% words/sec/thread:  212695 lr:  0.000000 avg.loss:  0.110899 ETA:   0h 0m 0s\n"
          ]
        }
      ],
      "source": [
        "import fasttext\n",
        "from tqdm import tqdm\n",
        "\n",
        "simple = fasttext.train_supervised(input='train.csv'\n",
        "                                  ,epoch=10\n",
        "                                  ,ws=5\n",
        "                                  ,lr = 0.5\n",
        "                                  ,wordNgrams=2\n",
        "                                  ,dim=100\n",
        "                                  )"
      ]
    },
    {
      "cell_type": "code",
      "execution_count": null,
      "metadata": {
        "id": "KVjjUZ-emVrK"
      },
      "outputs": [
        {
          "name": "stdout",
          "output_type": "stream",
          "text": [
            "(41074, 0.9350440668062522, 0.9350440668062522)\n"
          ]
        }
      ],
      "source": [
        "print(simple.test('val.csv'))"
      ]
    },
    {
      "cell_type": "code",
      "execution_count": null,
      "metadata": {
        "id": "Zsh5VdKBmxdk"
      },
      "outputs": [
        {
          "name": "stdout",
          "output_type": "stream",
          "text": [
            "(('__label__축산물_기타육류',), array([0.17789043]))\n"
          ]
        }
      ],
      "source": [
        "print(simple.predict(\"훠궈 맛있다\"))"
      ]
    },
    {
      "cell_type": "code",
      "execution_count": null,
      "metadata": {
        "id": "_qWog8pSmzZQ"
      },
      "outputs": [
        {
          "name": "stdout",
          "output_type": "stream",
          "text": [
            "(('__label__전통주_과실주',), array([0.99360412]))\n"
          ]
        }
      ],
      "source": [
        "print(simple.predict(\"말벡 와인 마시따\"))"
      ]
    },
    {
      "cell_type": "code",
      "execution_count": null,
      "metadata": {
        "id": "zBXJyR4eqrnk"
      },
      "outputs": [
        {
          "name": "stdout",
          "output_type": "stream",
          "text": [
            "(41075, 0.9377480219111382, 0.9377480219111382)\n"
          ]
        }
      ],
      "source": [
        "print(simple.test('test.csv'))"
      ]
    },
    {
      "cell_type": "code",
      "execution_count": null,
      "metadata": {
        "id": "XQVIgqTkr99f"
      },
      "outputs": [
        {
          "name": "stdout",
          "output_type": "stream",
          "text": [
            "(('__label__라면',), array([0.76587141]))\n"
          ]
        }
      ],
      "source": [
        "print(simple.predict(\"해장 라면\"))"
      ]
    },
    {
      "cell_type": "code",
      "execution_count": null,
      "metadata": {
        "id": "W_7mO6IOq52i"
      },
      "outputs": [],
      "source": [
        "simple.save_model(\"model.bin\")"
      ]
    },
    {
      "cell_type": "code",
      "execution_count": null,
      "metadata": {},
      "outputs": [
        {
          "name": "stderr",
          "output_type": "stream",
          "text": [
            "Read 0M words\n",
            "Number of words:  86089\n",
            "Number of labels: 108\n",
            "Progress: 100.0% words/sec/thread:  227340 lr:  0.000000 avg.loss:  0.555702 ETA:   0h 0m 0s\n"
          ]
        }
      ],
      "source": [
        "small = fasttext.train_supervised(input='train.csv')\n",
        "small.save_model(\"small.bin\")"
      ]
    },
    {
      "cell_type": "code",
      "execution_count": 61,
      "metadata": {},
      "outputs": [
        {
          "name": "stdout",
          "output_type": "stream",
          "text": [
            "(41075, 0.9320024345709069, 0.9320024345709069)\n"
          ]
        }
      ],
      "source": [
        "print(small.test('test.csv'))"
      ]
    }
  ],
  "metadata": {
    "accelerator": "GPU",
    "colab": {
      "private_outputs": true,
      "provenance": []
    },
    "gpuClass": "standard",
    "kernelspec": {
      "display_name": "section3",
      "language": "python",
      "name": "python3"
    },
    "language_info": {
      "codemirror_mode": {
        "name": "ipython",
        "version": 3
      },
      "file_extension": ".py",
      "mimetype": "text/x-python",
      "name": "python",
      "nbconvert_exporter": "python",
      "pygments_lexer": "ipython3",
      "version": "3.9.15"
    },
    "vscode": {
      "interpreter": {
        "hash": "7bb5b0f2c129d152a00269217fe214fe7d798081c1745540f58bba7af37dffd9"
      }
    }
  },
  "nbformat": 4,
  "nbformat_minor": 0
}
