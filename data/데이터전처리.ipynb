{
  "nbformat": 4,
  "nbformat_minor": 0,
  "metadata": {
    "colab": {
      "provenance": []
    },
    "kernelspec": {
      "name": "python3",
      "display_name": "Python 3"
    },
    "language_info": {
      "name": "python"
    },
    "accelerator": "GPU",
    "gpuClass": "standard"
  },
  "cells": [
    {
      "cell_type": "markdown",
      "source": [
        "# 구글 드라이브 마운트\n",
        "자동백업을 위해 드라이브 마운트"
      ],
      "metadata": {
        "id": "L1fTk5gowExz"
      }
    },
    {
      "cell_type": "code",
      "source": [
        "from google.colab import drive\n",
        "drive.mount('/content/drive')"
      ],
      "metadata": {
        "id": "-9waZwOkOGrd",
        "colab": {
          "base_uri": "https://localhost:8080/"
        },
        "outputId": "2716e23c-12f0-4d43-baf1-d29b5d6d9658"
      },
      "execution_count": 1,
      "outputs": [
        {
          "output_type": "stream",
          "name": "stdout",
          "text": [
            "Mounted at /content/drive\n"
          ]
        }
      ]
    },
    {
      "cell_type": "markdown",
      "source": [
        "# 패키지 설치\n",
        "- Pororo\n",
        "- Konlpy"
      ],
      "metadata": {
        "id": "036en0oao5S8"
      }
    },
    {
      "cell_type": "code",
      "source": [
        "!pip install --upgrade pip"
      ],
      "metadata": {
        "colab": {
          "base_uri": "https://localhost:8080/"
        },
        "id": "H73CkhmXOGol",
        "outputId": "7d78fdb7-b5b8-4d01-db73-e7dc08ce0804"
      },
      "execution_count": 8,
      "outputs": [
        {
          "output_type": "stream",
          "name": "stdout",
          "text": [
            "Looking in indexes: https://pypi.org/simple, https://us-python.pkg.dev/colab-wheels/public/simple/\n",
            "Requirement already satisfied: pip in /usr/local/lib/python3.8/dist-packages (21.1.3)\n",
            "Collecting pip\n",
            "  Downloading pip-22.3.1-py3-none-any.whl (2.1 MB)\n",
            "\u001b[K     |████████████████████████████████| 2.1 MB 33.6 MB/s \n",
            "\u001b[?25hInstalling collected packages: pip\n",
            "  Attempting uninstall: pip\n",
            "    Found existing installation: pip 21.1.3\n",
            "    Uninstalling pip-21.1.3:\n",
            "      Successfully uninstalled pip-21.1.3\n",
            "Successfully installed pip-22.3.1\n"
          ]
        }
      ]
    },
    {
      "cell_type": "code",
      "source": [
        "!git clone https://github.com/kakaobrain/pororo.git"
      ],
      "metadata": {
        "colab": {
          "base_uri": "https://localhost:8080/"
        },
        "id": "CG4oR6M6ONQV",
        "outputId": "4f295209-4f4d-418b-9e25-524315121854"
      },
      "execution_count": 9,
      "outputs": [
        {
          "output_type": "stream",
          "name": "stdout",
          "text": [
            "Cloning into 'pororo'...\n",
            "remote: Enumerating objects: 2119, done.\u001b[K\n",
            "remote: Counting objects: 100% (29/29), done.\u001b[K\n",
            "remote: Compressing objects: 100% (21/21), done.\u001b[K\n",
            "remote: Total 2119 (delta 11), reused 22 (delta 8), pack-reused 2090\u001b[K\n",
            "Receiving objects: 100% (2119/2119), 13.09 MiB | 12.66 MiB/s, done.\n",
            "Resolving deltas: 100% (1448/1448), done.\n"
          ]
        }
      ]
    },
    {
      "cell_type": "code",
      "source": [
        "cd pororo"
      ],
      "metadata": {
        "colab": {
          "base_uri": "https://localhost:8080/"
        },
        "id": "rHxsxxf_ONI-",
        "outputId": "7bb590fa-ff09-4232-c342-b56d3500b100"
      },
      "execution_count": 10,
      "outputs": [
        {
          "output_type": "stream",
          "name": "stdout",
          "text": [
            "/content/pororo\n"
          ]
        }
      ]
    },
    {
      "cell_type": "code",
      "source": [
        "!pip install -e ."
      ],
      "metadata": {
        "colab": {
          "base_uri": "https://localhost:8080/"
        },
        "id": "beHrUdicONGa",
        "outputId": "689e9324-508b-41ea-a4d9-4a315ddcc954"
      },
      "execution_count": 11,
      "outputs": [
        {
          "output_type": "stream",
          "name": "stdout",
          "text": [
            "Looking in indexes: https://pypi.org/simple, https://us-python.pkg.dev/colab-wheels/public/simple/\n",
            "Obtaining file:///content/pororo\n",
            "  Preparing metadata (setup.py) ... \u001b[?25l\u001b[?25hdone\n",
            "Collecting torch==1.6.0\n",
            "  Downloading torch-1.6.0-cp38-cp38-manylinux1_x86_64.whl (748.8 MB)\n",
            "\u001b[2K     \u001b[90m━━━━━━━━━━━━━━━━━━━━━━━━━━━━━━━━━━━━━━━\u001b[0m \u001b[32m748.8/748.8 MB\u001b[0m \u001b[31m2.2 MB/s\u001b[0m eta \u001b[36m0:00:00\u001b[0m\n",
            "\u001b[?25hCollecting torchvision==0.7.0\n",
            "  Downloading torchvision-0.7.0-cp38-cp38-manylinux1_x86_64.whl (5.9 MB)\n",
            "\u001b[2K     \u001b[90m━━━━━━━━━━━━━━━━━━━━━━━━━━━━━━━━━━━━━━━━\u001b[0m \u001b[32m5.9/5.9 MB\u001b[0m \u001b[31m66.0 MB/s\u001b[0m eta \u001b[36m0:00:00\u001b[0m\n",
            "\u001b[?25hRequirement already satisfied: pillow>=4.1.1 in /usr/local/lib/python3.8/dist-packages (from pororo==0.4.1) (7.1.2)\n",
            "Collecting fairseq>=0.10.2\n",
            "  Downloading fairseq-0.12.2-cp38-cp38-manylinux_2_5_x86_64.manylinux1_x86_64.whl (11.0 MB)\n",
            "\u001b[2K     \u001b[90m━━━━━━━━━━━━━━━━━━━━━━━━━━━━━━━━━━━━━━━━\u001b[0m \u001b[32m11.0/11.0 MB\u001b[0m \u001b[31m52.9 MB/s\u001b[0m eta \u001b[36m0:00:00\u001b[0m\n",
            "\u001b[?25hCollecting transformers>=4.0.0\n",
            "  Downloading transformers-4.25.1-py3-none-any.whl (5.8 MB)\n",
            "\u001b[2K     \u001b[90m━━━━━━━━━━━━━━━━━━━━━━━━━━━━━━━━━━━━━━━━\u001b[0m \u001b[32m5.8/5.8 MB\u001b[0m \u001b[31m72.9 MB/s\u001b[0m eta \u001b[36m0:00:00\u001b[0m\n",
            "\u001b[?25hCollecting sentence_transformers>=0.4.1.2\n",
            "  Downloading sentence-transformers-2.2.2.tar.gz (85 kB)\n",
            "\u001b[2K     \u001b[90m━━━━━━━━━━━━━━━━━━━━━━━━━━━━━━━━━━━━━━━━\u001b[0m \u001b[32m86.0/86.0 kB\u001b[0m \u001b[31m12.5 MB/s\u001b[0m eta \u001b[36m0:00:00\u001b[0m\n",
            "\u001b[?25h  Preparing metadata (setup.py) ... \u001b[?25l\u001b[?25hdone\n",
            "Requirement already satisfied: nltk>=3.5 in /usr/local/lib/python3.8/dist-packages (from pororo==0.4.1) (3.7)\n",
            "Collecting word2word\n",
            "  Downloading word2word-1.0.0-py3-none-any.whl (31 kB)\n",
            "Collecting wget\n",
            "  Downloading wget-3.2.zip (10 kB)\n",
            "  Preparing metadata (setup.py) ... \u001b[?25l\u001b[?25hdone\n",
            "Requirement already satisfied: joblib in /usr/local/lib/python3.8/dist-packages (from pororo==0.4.1) (1.2.0)\n",
            "Requirement already satisfied: lxml in /usr/local/lib/python3.8/dist-packages (from pororo==0.4.1) (4.9.2)\n",
            "Collecting g2p_en\n",
            "  Downloading g2p_en-2.1.0-py3-none-any.whl (3.1 MB)\n",
            "\u001b[2K     \u001b[90m━━━━━━━━━━━━━━━━━━━━━━━━━━━━━━━━━━━━━━━━\u001b[0m \u001b[32m3.1/3.1 MB\u001b[0m \u001b[31m72.7 MB/s\u001b[0m eta \u001b[36m0:00:00\u001b[0m\n",
            "\u001b[?25hCollecting whoosh\n",
            "  Downloading Whoosh-2.7.4-py2.py3-none-any.whl (468 kB)\n",
            "\u001b[2K     \u001b[90m━━━━━━━━━━━━━━━━━━━━━━━━━━━━━━━━━━━━━━\u001b[0m \u001b[32m468.8/468.8 kB\u001b[0m \u001b[31m25.7 MB/s\u001b[0m eta \u001b[36m0:00:00\u001b[0m\n",
            "\u001b[?25hCollecting marisa-trie\n",
            "  Downloading marisa_trie-0.7.8-cp38-cp38-manylinux_2_17_x86_64.manylinux2014_x86_64.whl (1.2 MB)\n",
            "\u001b[2K     \u001b[90m━━━━━━━━━━━━━━━━━━━━━━━━━━━━━━━━━━━━━━━━\u001b[0m \u001b[32m1.2/1.2 MB\u001b[0m \u001b[31m43.2 MB/s\u001b[0m eta \u001b[36m0:00:00\u001b[0m\n",
            "\u001b[?25hCollecting kss\n",
            "  Downloading kss-4.2.0.tar.gz (59 kB)\n",
            "\u001b[2K     \u001b[90m━━━━━━━━━━━━━━━━━━━━━━━━━━━━━━━━━━━━━━━━\u001b[0m \u001b[32m59.2/59.2 kB\u001b[0m \u001b[31m8.8 MB/s\u001b[0m eta \u001b[36m0:00:00\u001b[0m\n",
            "\u001b[?25h  Preparing metadata (setup.py) ... \u001b[?25l\u001b[?25hdone\n",
            "Requirement already satisfied: numpy in /usr/local/lib/python3.8/dist-packages (from torch==1.6.0->pororo==0.4.1) (1.21.6)\n",
            "Requirement already satisfied: future in /usr/local/lib/python3.8/dist-packages (from torch==1.6.0->pororo==0.4.1) (0.16.0)\n",
            "Collecting bitarray\n",
            "  Downloading bitarray-2.6.2-cp38-cp38-manylinux_2_17_x86_64.manylinux2014_x86_64.whl (240 kB)\n",
            "\u001b[2K     \u001b[90m━━━━━━━━━━━━━━━━━━━━━━━━━━━━━━━━━━━━━━\u001b[0m \u001b[32m240.4/240.4 kB\u001b[0m \u001b[31m19.3 MB/s\u001b[0m eta \u001b[36m0:00:00\u001b[0m\n",
            "\u001b[?25hRequirement already satisfied: cffi in /usr/local/lib/python3.8/dist-packages (from fairseq>=0.10.2->pororo==0.4.1) (1.15.1)\n",
            "Collecting omegaconf<2.1\n",
            "  Downloading omegaconf-2.0.6-py3-none-any.whl (36 kB)\n",
            "Requirement already satisfied: cython in /usr/local/lib/python3.8/dist-packages (from fairseq>=0.10.2->pororo==0.4.1) (0.29.32)\n",
            "Requirement already satisfied: regex in /usr/local/lib/python3.8/dist-packages (from fairseq>=0.10.2->pororo==0.4.1) (2022.6.2)\n",
            "Requirement already satisfied: tqdm in /usr/local/lib/python3.8/dist-packages (from fairseq>=0.10.2->pororo==0.4.1) (4.64.1)\n",
            "Collecting hydra-core<1.1,>=1.0.7\n",
            "  Downloading hydra_core-1.0.7-py3-none-any.whl (123 kB)\n",
            "\u001b[2K     \u001b[90m━━━━━━━━━━━━━━━━━━━━━━━━━━━━━━━━━━━━━━\u001b[0m \u001b[32m123.8/123.8 kB\u001b[0m \u001b[31m16.8 MB/s\u001b[0m eta \u001b[36m0:00:00\u001b[0m\n",
            "\u001b[?25hRequirement already satisfied: torchaudio>=0.8.0 in /usr/local/lib/python3.8/dist-packages (from fairseq>=0.10.2->pororo==0.4.1) (0.13.0+cu116)\n",
            "Collecting sacrebleu>=1.4.12\n",
            "  Downloading sacrebleu-2.3.1-py3-none-any.whl (118 kB)\n",
            "\u001b[2K     \u001b[90m━━━━━━━━━━━━━━━━━━━━━━━━━━━━━━━━━━━━━━\u001b[0m \u001b[32m118.9/118.9 kB\u001b[0m \u001b[31m16.1 MB/s\u001b[0m eta \u001b[36m0:00:00\u001b[0m\n",
            "\u001b[?25hRequirement already satisfied: click in /usr/local/lib/python3.8/dist-packages (from nltk>=3.5->pororo==0.4.1) (7.1.2)\n",
            "Requirement already satisfied: scikit-learn in /usr/local/lib/python3.8/dist-packages (from sentence_transformers>=0.4.1.2->pororo==0.4.1) (1.0.2)\n",
            "Requirement already satisfied: scipy in /usr/local/lib/python3.8/dist-packages (from sentence_transformers>=0.4.1.2->pororo==0.4.1) (1.7.3)\n",
            "Collecting sentencepiece\n",
            "  Downloading sentencepiece-0.1.97-cp38-cp38-manylinux_2_17_x86_64.manylinux2014_x86_64.whl (1.3 MB)\n",
            "\u001b[2K     \u001b[90m━━━━━━━━━━━━━━━━━━━━━━━━━━━━━━━━━━━━━━━━\u001b[0m \u001b[32m1.3/1.3 MB\u001b[0m \u001b[31m58.7 MB/s\u001b[0m eta \u001b[36m0:00:00\u001b[0m\n",
            "\u001b[?25hCollecting huggingface-hub>=0.4.0\n",
            "  Downloading huggingface_hub-0.11.1-py3-none-any.whl (182 kB)\n",
            "\u001b[2K     \u001b[90m━━━━━━━━━━━━━━━━━━━━━━━━━━━━━━━━━━━━━━\u001b[0m \u001b[32m182.4/182.4 kB\u001b[0m \u001b[31m22.6 MB/s\u001b[0m eta \u001b[36m0:00:00\u001b[0m\n",
            "\u001b[?25hRequirement already satisfied: filelock in /usr/local/lib/python3.8/dist-packages (from transformers>=4.0.0->pororo==0.4.1) (3.8.2)\n",
            "Requirement already satisfied: packaging>=20.0 in /usr/local/lib/python3.8/dist-packages (from transformers>=4.0.0->pororo==0.4.1) (21.3)\n",
            "Requirement already satisfied: pyyaml>=5.1 in /usr/local/lib/python3.8/dist-packages (from transformers>=4.0.0->pororo==0.4.1) (6.0)\n",
            "Collecting tokenizers!=0.11.3,<0.14,>=0.11.1\n",
            "  Downloading tokenizers-0.13.2-cp38-cp38-manylinux_2_17_x86_64.manylinux2014_x86_64.whl (7.6 MB)\n",
            "\u001b[2K     \u001b[90m━━━━━━━━━━━━━━━━━━━━━━━━━━━━━━━━━━━━━━━━\u001b[0m \u001b[32m7.6/7.6 MB\u001b[0m \u001b[31m79.7 MB/s\u001b[0m eta \u001b[36m0:00:00\u001b[0m\n",
            "\u001b[?25hRequirement already satisfied: requests in /usr/local/lib/python3.8/dist-packages (from transformers>=4.0.0->pororo==0.4.1) (2.23.0)\n",
            "Collecting distance>=0.1.3\n",
            "  Downloading Distance-0.1.3.tar.gz (180 kB)\n",
            "\u001b[2K     \u001b[90m━━━━━━━━━━━━━━━━━━━━━━━━━━━━━━━━━━━━━━\u001b[0m \u001b[32m180.3/180.3 kB\u001b[0m \u001b[31m22.9 MB/s\u001b[0m eta \u001b[36m0:00:00\u001b[0m\n",
            "\u001b[?25h  Preparing metadata (setup.py) ... \u001b[?25l\u001b[?25hdone\n",
            "Requirement already satisfied: inflect>=0.3.1 in /usr/local/lib/python3.8/dist-packages (from g2p_en->pororo==0.4.1) (2.1.0)\n",
            "Collecting emoji==1.2.0\n",
            "  Downloading emoji-1.2.0-py3-none-any.whl (131 kB)\n",
            "\u001b[2K     \u001b[90m━━━━━━━━━━━━━━━━━━━━━━━━━━━━━━━━━━━━━━\u001b[0m \u001b[32m131.3/131.3 kB\u001b[0m \u001b[31m19.2 MB/s\u001b[0m eta \u001b[36m0:00:00\u001b[0m\n",
            "\u001b[?25hCollecting pecab\n",
            "  Downloading pecab-1.0.8.tar.gz (26.4 MB)\n",
            "\u001b[2K     \u001b[90m━━━━━━━━━━━━━━━━━━━━━━━━━━━━━━━━━━━━━━━━\u001b[0m \u001b[32m26.4/26.4 MB\u001b[0m \u001b[31m18.7 MB/s\u001b[0m eta \u001b[36m0:00:00\u001b[0m\n",
            "\u001b[?25h  Preparing metadata (setup.py) ... \u001b[?25l\u001b[?25hdone\n",
            "Requirement already satisfied: setuptools in /usr/local/lib/python3.8/dist-packages (from marisa-trie->pororo==0.4.1) (57.4.0)\n",
            "Requirement already satisfied: typing-extensions>=3.7.4.3 in /usr/local/lib/python3.8/dist-packages (from huggingface-hub>=0.4.0->sentence_transformers>=0.4.1.2->pororo==0.4.1) (4.4.0)\n",
            "Requirement already satisfied: importlib-resources in /usr/local/lib/python3.8/dist-packages (from hydra-core<1.1,>=1.0.7->fairseq>=0.10.2->pororo==0.4.1) (5.10.1)\n",
            "Collecting antlr4-python3-runtime==4.8\n",
            "  Downloading antlr4-python3-runtime-4.8.tar.gz (112 kB)\n",
            "\u001b[2K     \u001b[90m━━━━━━━━━━━━━━━━━━━━━━━━━━━━━━━━━━━━━━\u001b[0m \u001b[32m112.4/112.4 kB\u001b[0m \u001b[31m13.8 MB/s\u001b[0m eta \u001b[36m0:00:00\u001b[0m\n",
            "\u001b[?25h  Preparing metadata (setup.py) ... \u001b[?25l\u001b[?25hdone\n",
            "Requirement already satisfied: pyparsing!=3.0.5,>=2.0.2 in /usr/local/lib/python3.8/dist-packages (from packaging>=20.0->transformers>=4.0.0->pororo==0.4.1) (3.0.9)\n",
            "Requirement already satisfied: tabulate>=0.8.9 in /usr/local/lib/python3.8/dist-packages (from sacrebleu>=1.4.12->fairseq>=0.10.2->pororo==0.4.1) (0.8.10)\n",
            "Collecting colorama\n",
            "  Downloading colorama-0.4.6-py2.py3-none-any.whl (25 kB)\n",
            "Collecting portalocker\n",
            "  Downloading portalocker-2.6.0-py2.py3-none-any.whl (15 kB)\n",
            "Collecting torchaudio>=0.8.0\n",
            "  Downloading torchaudio-0.13.1-cp38-cp38-manylinux1_x86_64.whl (4.2 MB)\n",
            "\u001b[2K     \u001b[90m━━━━━━━━━━━━━━━━━━━━━━━━━━━━━━━━━━━━━━━━\u001b[0m \u001b[32m4.2/4.2 MB\u001b[0m \u001b[31m50.5 MB/s\u001b[0m eta \u001b[36m0:00:00\u001b[0m\n",
            "\u001b[?25h  Downloading torchaudio-0.13.0-cp38-cp38-manylinux1_x86_64.whl (4.2 MB)\n",
            "\u001b[2K     \u001b[90m━━━━━━━━━━━━━━━━━━━━━━━━━━━━━━━━━━━━━━━━\u001b[0m \u001b[32m4.2/4.2 MB\u001b[0m \u001b[31m61.4 MB/s\u001b[0m eta \u001b[36m0:00:00\u001b[0m\n",
            "\u001b[?25h  Downloading torchaudio-0.12.1-cp38-cp38-manylinux1_x86_64.whl (3.7 MB)\n",
            "\u001b[2K     \u001b[90m━━━━━━━━━━━━━━━━━━━━━━━━━━━━━━━━━━━━━━━━\u001b[0m \u001b[32m3.7/3.7 MB\u001b[0m \u001b[31m60.5 MB/s\u001b[0m eta \u001b[36m0:00:00\u001b[0m\n",
            "\u001b[?25h  Downloading torchaudio-0.12.0-cp38-cp38-manylinux1_x86_64.whl (3.7 MB)\n",
            "\u001b[2K     \u001b[90m━━━━━━━━━━━━━━━━━━━━━━━━━━━━━━━━━━━━━━━━\u001b[0m \u001b[32m3.7/3.7 MB\u001b[0m \u001b[31m57.9 MB/s\u001b[0m eta \u001b[36m0:00:00\u001b[0m\n",
            "\u001b[?25h  Downloading torchaudio-0.11.0-cp38-cp38-manylinux1_x86_64.whl (2.9 MB)\n",
            "\u001b[2K     \u001b[90m━━━━━━━━━━━━━━━━━━━━━━━━━━━━━━━━━━━━━━━━\u001b[0m \u001b[32m2.9/2.9 MB\u001b[0m \u001b[31m51.2 MB/s\u001b[0m eta \u001b[36m0:00:00\u001b[0m\n",
            "\u001b[?25h  Downloading torchaudio-0.10.2-cp38-cp38-manylinux1_x86_64.whl (2.9 MB)\n",
            "\u001b[2K     \u001b[90m━━━━━━━━━━━━━━━━━━━━━━━━━━━━━━━━━━━━━━━━\u001b[0m \u001b[32m2.9/2.9 MB\u001b[0m \u001b[31m63.0 MB/s\u001b[0m eta \u001b[36m0:00:00\u001b[0m\n",
            "\u001b[?25h  Downloading torchaudio-0.10.1-cp38-cp38-manylinux1_x86_64.whl (2.9 MB)\n",
            "\u001b[2K     \u001b[90m━━━━━━━━━━━━━━━━━━━━━━━━━━━━━━━━━━━━━━━━\u001b[0m \u001b[32m2.9/2.9 MB\u001b[0m \u001b[31m52.6 MB/s\u001b[0m eta \u001b[36m0:00:00\u001b[0m\n",
            "\u001b[?25h  Downloading torchaudio-0.10.0-cp38-cp38-manylinux1_x86_64.whl (2.9 MB)\n",
            "\u001b[2K     \u001b[90m━━━━━━━━━━━━━━━━━━━━━━━━━━━━━━━━━━━━━━━━\u001b[0m \u001b[32m2.9/2.9 MB\u001b[0m \u001b[31m77.4 MB/s\u001b[0m eta \u001b[36m0:00:00\u001b[0m\n",
            "\u001b[?25h  Downloading torchaudio-0.9.1-cp38-cp38-manylinux1_x86_64.whl (1.9 MB)\n",
            "\u001b[2K     \u001b[90m━━━━━━━━━━━━━━━━━━━━━━━━━━━━━━━━━━━━━━━━\u001b[0m \u001b[32m1.9/1.9 MB\u001b[0m \u001b[31m65.7 MB/s\u001b[0m eta \u001b[36m0:00:00\u001b[0m\n",
            "\u001b[?25h  Downloading torchaudio-0.9.0-cp38-cp38-manylinux1_x86_64.whl (1.9 MB)\n",
            "\u001b[2K     \u001b[90m━━━━━━━━━━━━━━━━━━━━━━━━━━━━━━━━━━━━━━━━\u001b[0m \u001b[32m1.9/1.9 MB\u001b[0m \u001b[31m62.8 MB/s\u001b[0m eta \u001b[36m0:00:00\u001b[0m\n",
            "\u001b[?25h  Downloading torchaudio-0.8.1-cp38-cp38-manylinux1_x86_64.whl (1.9 MB)\n",
            "\u001b[2K     \u001b[90m━━━━━━━━━━━━━━━━━━━━━━━━━━━━━━━━━━━━━━━━\u001b[0m \u001b[32m1.9/1.9 MB\u001b[0m \u001b[31m65.6 MB/s\u001b[0m eta \u001b[36m0:00:00\u001b[0m\n",
            "\u001b[?25h  Downloading torchaudio-0.8.0-cp38-cp38-manylinux1_x86_64.whl (1.9 MB)\n",
            "\u001b[2K     \u001b[90m━━━━━━━━━━━━━━━━━━━━━━━━━━━━━━━━━━━━━━━━\u001b[0m \u001b[32m1.9/1.9 MB\u001b[0m \u001b[31m66.7 MB/s\u001b[0m eta \u001b[36m0:00:00\u001b[0m\n",
            "\u001b[?25hINFO: pip is looking at multiple versions of tokenizers to determine which version is compatible with other requirements. This could take a while.\n",
            "Collecting tokenizers!=0.11.3,<0.14,>=0.11.1\n",
            "  Downloading tokenizers-0.13.1-cp38-cp38-manylinux_2_17_x86_64.manylinux2014_x86_64.whl (7.6 MB)\n",
            "\u001b[2K     \u001b[90m━━━━━━━━━━━━━━━━━━━━━━━━━━━━━━━━━━━━━━━━\u001b[0m \u001b[32m7.6/7.6 MB\u001b[0m \u001b[31m82.3 MB/s\u001b[0m eta \u001b[36m0:00:00\u001b[0m\n",
            "\u001b[?25hINFO: pip is looking at multiple versions of sacrebleu to determine which version is compatible with other requirements. This could take a while.\n",
            "Collecting sacrebleu>=1.4.12\n",
            "  Downloading sacrebleu-2.3.0-py3-none-any.whl (118 kB)\n",
            "\u001b[2K     \u001b[90m━━━━━━━━━━━━━━━━━━━━━━━━━━━━━━━━━━━━━━\u001b[0m \u001b[32m118.8/118.8 kB\u001b[0m \u001b[31m17.7 MB/s\u001b[0m eta \u001b[36m0:00:00\u001b[0m\n",
            "\u001b[?25hINFO: pip is looking at multiple versions of regex to determine which version is compatible with other requirements. This could take a while.\n",
            "Collecting regex\n",
            "  Downloading regex-2022.10.31-cp38-cp38-manylinux_2_17_x86_64.manylinux2014_x86_64.whl (772 kB)\n",
            "\u001b[2K     \u001b[90m━━━━━━━━━━━━━━━━━━━━━━━━━━━━━━━━━━━━━━\u001b[0m \u001b[32m772.3/772.3 kB\u001b[0m \u001b[31m14.2 MB/s\u001b[0m eta \u001b[36m0:00:00\u001b[0m\n",
            "\u001b[?25hINFO: pip is looking at multiple versions of pyyaml to determine which version is compatible with other requirements. This could take a while.\n",
            "Collecting pyyaml>=5.1\n",
            "  Downloading PyYAML-6.0-cp38-cp38-manylinux_2_5_x86_64.manylinux1_x86_64.manylinux_2_12_x86_64.manylinux2010_x86_64.whl (701 kB)\n",
            "\u001b[2K     \u001b[90m━━━━━━━━━━━━━━━━━━━━━━━━━━━━━━━━━━━━━━\u001b[0m \u001b[32m701.2/701.2 kB\u001b[0m \u001b[31m57.5 MB/s\u001b[0m eta \u001b[36m0:00:00\u001b[0m\n",
            "\u001b[?25hINFO: pip is looking at multiple versions of packaging to determine which version is compatible with other requirements. This could take a while.\n",
            "Collecting packaging>=20.0\n",
            "  Downloading packaging-22.0-py3-none-any.whl (42 kB)\n",
            "\u001b[2K     \u001b[90m━━━━━━━━━━━━━━━━━━━━━━━━━━━━━━━━━━━━━━━━\u001b[0m \u001b[32m42.6/42.6 kB\u001b[0m \u001b[31m3.2 MB/s\u001b[0m eta \u001b[36m0:00:00\u001b[0m\n",
            "\u001b[?25hINFO: pip is looking at multiple versions of omegaconf to determine which version is compatible with other requirements. This could take a while.\n",
            "Collecting omegaconf<2.1\n",
            "  Downloading omegaconf-2.0.5-py3-none-any.whl (36 kB)\n",
            "INFO: pip is looking at multiple versions of numpy to determine which version is compatible with other requirements. This could take a while.\n",
            "Collecting numpy\n",
            "  Downloading numpy-1.24.1-cp38-cp38-manylinux_2_17_x86_64.manylinux2014_x86_64.whl (17.3 MB)\n",
            "\u001b[2K     \u001b[90m━━━━━━━━━━━━━━━━━━━━━━━━━━━━━━━━━━━━━━━━\u001b[0m \u001b[32m17.3/17.3 MB\u001b[0m \u001b[31m78.1 MB/s\u001b[0m eta \u001b[36m0:00:00\u001b[0m\n",
            "\u001b[?25hINFO: pip is looking at multiple versions of inflect to determine which version is compatible with other requirements. This could take a while.\n",
            "Collecting inflect>=0.3.1\n",
            "  Downloading inflect-6.0.2-py3-none-any.whl (34 kB)\n",
            "INFO: pip is looking at multiple versions of antlr4-python3-runtime to determine which version is compatible with other requirements. This could take a while.\n",
            "INFO: pip is looking at multiple versions of hydra-core to determine which version is compatible with other requirements. This could take a while.\n",
            "INFO: pip is looking at multiple versions of huggingface-hub to determine which version is compatible with other requirements. This could take a while.\n",
            "Collecting huggingface-hub>=0.4.0\n",
            "  Downloading huggingface_hub-0.11.0-py3-none-any.whl (182 kB)\n",
            "\u001b[2K     \u001b[90m━━━━━━━━━━━━━━━━━━━━━━━━━━━━━━━━━━━━━━\u001b[0m \u001b[32m182.1/182.1 kB\u001b[0m \u001b[31m25.2 MB/s\u001b[0m eta \u001b[36m0:00:00\u001b[0m\n",
            "\u001b[?25hINFO: pip is looking at multiple versions of distance to determine which version is compatible with other requirements. This could take a while.\n",
            "INFO: pip is looking at multiple versions of word2word to determine which version is compatible with other requirements. This could take a while.\n",
            "Collecting word2word\n",
            "  Downloading word2word-0.2.0-py3-none-any.whl (31 kB)\n",
            "INFO: pip is looking at multiple versions of whoosh to determine which version is compatible with other requirements. This could take a while.\n",
            "Collecting whoosh\n",
            "  Downloading Whoosh-2.7.3.zip (1.1 MB)\n",
            "\u001b[2K     \u001b[90m━━━━━━━━━━━━━━━━━━━━━━━━━━━━━━━━━━━━━━━━\u001b[0m \u001b[32m1.1/1.1 MB\u001b[0m \u001b[31m52.7 MB/s\u001b[0m eta \u001b[36m0:00:00\u001b[0m\n",
            "\u001b[?25h  Preparing metadata (setup.py) ... \u001b[?25l\u001b[?25hdone\n",
            "INFO: pip is looking at multiple versions of wget to determine which version is compatible with other requirements. This could take a while.\n",
            "Collecting wget\n",
            "  Downloading wget-3.1.zip (10 kB)\n",
            "  Preparing metadata (setup.py) ... \u001b[?25l\u001b[?25hdone\n",
            "INFO: pip is looking at multiple versions of marisa-trie to determine which version is compatible with other requirements. This could take a while.\n",
            "Collecting marisa-trie\n",
            "  Downloading marisa_trie-0.7.7-cp38-cp38-manylinux_2_5_x86_64.manylinux1_x86_64.manylinux_2_12_x86_64.manylinux2010_x86_64.whl (1.3 MB)\n",
            "\u001b[2K     \u001b[90m━━━━━━━━━━━━━━━━━━━━━━━━━━━━━━━━━━━━━━━━\u001b[0m \u001b[32m1.3/1.3 MB\u001b[0m \u001b[31m46.0 MB/s\u001b[0m eta \u001b[36m0:00:00\u001b[0m\n",
            "\u001b[?25hINFO: pip is looking at multiple versions of lxml to determine which version is compatible with other requirements. This could take a while.\n",
            "Collecting lxml\n",
            "  Downloading lxml-4.9.2-cp38-cp38-manylinux_2_17_x86_64.manylinux2014_x86_64.manylinux_2_24_x86_64.whl (7.1 MB)\n",
            "\u001b[2K     \u001b[90m━━━━━━━━━━━━━━━━━━━━━━━━━━━━━━━━━━━━━━━━\u001b[0m \u001b[32m7.1/7.1 MB\u001b[0m \u001b[31m85.9 MB/s\u001b[0m eta \u001b[36m0:00:00\u001b[0m\n",
            "\u001b[?25hINFO: pip is looking at multiple versions of emoji to determine which version is compatible with other requirements. This could take a while.\n",
            "INFO: pip is looking at multiple versions of kss to determine which version is compatible with other requirements. This could take a while.\n",
            "Collecting kss\n",
            "  Downloading kss-4.1.5.tar.gz (59 kB)\n",
            "\u001b[2K     \u001b[90m━━━━━━━━━━━━━━━━━━━━━━━━━━━━━━━━━━━━━━━\u001b[0m \u001b[32m59.2/59.2 kB\u001b[0m \u001b[31m223.6 kB/s\u001b[0m eta \u001b[36m0:00:00\u001b[0m\n",
            "\u001b[?25h  Preparing metadata (setup.py) ... \u001b[?25l\u001b[?25hdone\n",
            "INFO: pip is looking at multiple versions of joblib to determine which version is compatible with other requirements. This could take a while.\n",
            "Collecting joblib\n",
            "  Downloading joblib-1.2.0-py3-none-any.whl (297 kB)\n",
            "\u001b[2K     \u001b[90m━━━━━━━━━━━━━━━━━━━━━━━━━━━━━━━━━━━━━━\u001b[0m \u001b[32m298.0/298.0 kB\u001b[0m \u001b[31m35.5 MB/s\u001b[0m eta \u001b[36m0:00:00\u001b[0m\n",
            "\u001b[?25hINFO: pip is looking at multiple versions of g2p-en to determine which version is compatible with other requirements. This could take a while.\n",
            "Collecting g2p_en\n",
            "  Downloading g2p_en-2.0.0-py3-none-any.whl (3.1 MB)\n",
            "\u001b[2K     \u001b[90m━━━━━━━━━━━━━━━━━━━━━━━━━━━━━━━━━━━━━━━━\u001b[0m \u001b[32m3.1/3.1 MB\u001b[0m \u001b[31m70.7 MB/s\u001b[0m eta \u001b[36m0:00:00\u001b[0m\n",
            "\u001b[?25hINFO: pip is looking at multiple versions of transformers to determine which version is compatible with other requirements. This could take a while.\n",
            "Collecting transformers>=4.0.0\n",
            "  Downloading transformers-4.24.0-py3-none-any.whl (5.5 MB)\n",
            "\u001b[2K     \u001b[90m━━━━━━━━━━━━━━━━━━━━━━━━━━━━━━━━━━━━━━━━\u001b[0m \u001b[32m5.5/5.5 MB\u001b[0m \u001b[31m89.9 MB/s\u001b[0m eta \u001b[36m0:00:00\u001b[0m\n",
            "\u001b[?25hINFO: pip is looking at multiple versions of sentence-transformers to determine which version is compatible with other requirements. This could take a while.\n",
            "Collecting sentence_transformers>=0.4.1.2\n",
            "  Downloading sentence-transformers-2.2.1.tar.gz (84 kB)\n",
            "\u001b[2K     \u001b[90m━━━━━━━━━━━━━━━━━━━━━━━━━━━━━━━━━━━━━━━━\u001b[0m \u001b[32m84.0/84.0 kB\u001b[0m \u001b[31m12.2 MB/s\u001b[0m eta \u001b[36m0:00:00\u001b[0m\n",
            "\u001b[?25h  Preparing metadata (setup.py) ... \u001b[?25l\u001b[?25hdone\n",
            "  Downloading sentence-transformers-2.2.0.tar.gz (79 kB)\n",
            "\u001b[2K     \u001b[90m━━━━━━━━━━━━━━━━━━━━━━━━━━━━━━━━━━━━━━━━\u001b[0m \u001b[32m79.7/79.7 kB\u001b[0m \u001b[31m9.7 MB/s\u001b[0m eta \u001b[36m0:00:00\u001b[0m\n",
            "\u001b[?25h  Preparing metadata (setup.py) ... \u001b[?25l\u001b[?25hdone\n",
            "  Downloading sentence-transformers-2.1.0.tar.gz (78 kB)\n",
            "\u001b[2K     \u001b[90m━━━━━━━━━━━━━━━━━━━━━━━━━━━━━━━━━━━━━━━━\u001b[0m \u001b[32m78.5/78.5 kB\u001b[0m \u001b[31m10.7 MB/s\u001b[0m eta \u001b[36m0:00:00\u001b[0m\n",
            "\u001b[?25h  Preparing metadata (setup.py) ... \u001b[?25l\u001b[?25hdone\n",
            "  Downloading sentence-transformers-2.0.0.tar.gz (85 kB)\n",
            "\u001b[2K     \u001b[90m━━━━━━━━━━━━━━━━━━━━━━━━━━━━━━━━━━━━━━━━\u001b[0m \u001b[32m85.5/85.5 kB\u001b[0m \u001b[31m12.2 MB/s\u001b[0m eta \u001b[36m0:00:00\u001b[0m\n",
            "\u001b[?25h  Preparing metadata (setup.py) ... \u001b[?25l\u001b[?25hdone\n",
            "  Downloading sentence-transformers-1.2.1.tar.gz (80 kB)\n",
            "\u001b[2K     \u001b[90m━━━━━━━━━━━━━━━━━━━━━━━━━━━━━━━━━━━━━━━━\u001b[0m \u001b[32m80.8/80.8 kB\u001b[0m \u001b[31m10.8 MB/s\u001b[0m eta \u001b[36m0:00:00\u001b[0m\n",
            "\u001b[?25h  Preparing metadata (setup.py) ... \u001b[?25l\u001b[?25hdone\n",
            "  Downloading sentence-transformers-1.2.0.tar.gz (81 kB)\n",
            "\u001b[2K     \u001b[90m━━━━━━━━━━━━━━━━━━━━━━━━━━━━━━━━━━━━━━━━\u001b[0m \u001b[32m81.4/81.4 kB\u001b[0m \u001b[31m10.0 MB/s\u001b[0m eta \u001b[36m0:00:00\u001b[0m\n",
            "\u001b[?25h  Preparing metadata (setup.py) ... \u001b[?25l\u001b[?25hdone\n",
            "  Downloading sentence-transformers-1.1.1.tar.gz (81 kB)\n",
            "\u001b[2K     \u001b[90m━━━━━━━━━━━━━━━━━━━━━━━━━━━━━━━━━━━━━━━━\u001b[0m \u001b[32m81.4/81.4 kB\u001b[0m \u001b[31m11.6 MB/s\u001b[0m eta \u001b[36m0:00:00\u001b[0m\n",
            "\u001b[?25h  Preparing metadata (setup.py) ... \u001b[?25l\u001b[?25hdone\n",
            "INFO: pip is looking at multiple versions of sentence-transformers to determine which version is compatible with other requirements. This could take a while.\n",
            "  Downloading sentence-transformers-1.1.0.tar.gz (78 kB)\n",
            "\u001b[2K     \u001b[90m━━━━━━━━━━━━━━━━━━━━━━━━━━━━━━━━━━━━━━━━\u001b[0m \u001b[32m78.9/78.9 kB\u001b[0m \u001b[31m11.0 MB/s\u001b[0m eta \u001b[36m0:00:00\u001b[0m\n",
            "\u001b[?25h  Preparing metadata (setup.py) ... \u001b[?25l\u001b[?25hdone\n",
            "  Downloading sentence-transformers-1.0.4.tar.gz (74 kB)\n",
            "\u001b[2K     \u001b[90m━━━━━━━━━━━━━━━━━━━━━━━━━━━━━━━━━━━━━━━━\u001b[0m \u001b[32m74.9/74.9 kB\u001b[0m \u001b[31m9.9 MB/s\u001b[0m eta \u001b[36m0:00:00\u001b[0m\n",
            "\u001b[?25h  Preparing metadata (setup.py) ... \u001b[?25l\u001b[?25hdone\n",
            "  Downloading sentence-transformers-1.0.3.tar.gz (74 kB)\n",
            "\u001b[2K     \u001b[90m━━━━━━━━━━━━━━━━━━━━━━━━━━━━━━━━━━━━━━━━\u001b[0m \u001b[32m74.9/74.9 kB\u001b[0m \u001b[31m4.3 MB/s\u001b[0m eta \u001b[36m0:00:00\u001b[0m\n",
            "\u001b[?25h  Preparing metadata (setup.py) ... \u001b[?25l\u001b[?25hdone\n",
            "  Downloading sentence-transformers-1.0.2.tar.gz (74 kB)\n",
            "\u001b[2K     \u001b[90m━━━━━━━━━━━━━━━━━━━━━━━━━━━━━━━━━━━━━━━━\u001b[0m \u001b[32m74.9/74.9 kB\u001b[0m \u001b[31m10.0 MB/s\u001b[0m eta \u001b[36m0:00:00\u001b[0m\n",
            "\u001b[?25h  Preparing metadata (setup.py) ... \u001b[?25l\u001b[?25hdone\n",
            "  Downloading sentence-transformers-1.0.1.tar.gz (74 kB)\n",
            "\u001b[2K     \u001b[90m━━━━━━━━━━━━━━━━━━━━━━━━━━━━━━━━━━━━━━━━\u001b[0m \u001b[32m74.8/74.8 kB\u001b[0m \u001b[31m9.7 MB/s\u001b[0m eta \u001b[36m0:00:00\u001b[0m\n",
            "\u001b[?25h  Preparing metadata (setup.py) ... \u001b[?25l\u001b[?25hdone\n",
            "INFO: This is taking longer than usual. You might need to provide the dependency resolver with stricter constraints to reduce runtime. See https://pip.pypa.io/warnings/backtracking for guidance. If you want to abort this run, press Ctrl + C.\n",
            "  Downloading sentence-transformers-1.0.0.tar.gz (74 kB)\n",
            "\u001b[2K     \u001b[90m━━━━━━━━━━━━━━━━━━━━━━━━━━━━━━━━━━━━━━━━\u001b[0m \u001b[32m74.8/74.8 kB\u001b[0m \u001b[31m10.3 MB/s\u001b[0m eta \u001b[36m0:00:00\u001b[0m\n",
            "\u001b[?25h  Preparing metadata (setup.py) ... \u001b[?25l\u001b[?25hdone\n",
            "  Downloading sentence-transformers-0.4.1.2.tar.gz (64 kB)\n",
            "\u001b[2K     \u001b[90m━━━━━━━━━━━━━━━━━━━━━━━━━━━━━━━━━━━━━━━━\u001b[0m \u001b[32m64.6/64.6 kB\u001b[0m \u001b[31m7.5 MB/s\u001b[0m eta \u001b[36m0:00:00\u001b[0m\n",
            "\u001b[?25h  Preparing metadata (setup.py) ... \u001b[?25l\u001b[?25hdone\n",
            "INFO: pip is looking at multiple versions of pillow to determine which version is compatible with other requirements. This could take a while.\n",
            "Collecting pillow>=4.1.1\n",
            "  Downloading Pillow-9.4.0-cp38-cp38-manylinux_2_17_x86_64.manylinux2014_x86_64.whl (3.3 MB)\n",
            "\u001b[2K     \u001b[90m━━━━━━━━━━━━━━━━━━━━━━━━━━━━━━━━━━━━━━━━\u001b[0m \u001b[32m3.3/3.3 MB\u001b[0m \u001b[31m67.2 MB/s\u001b[0m eta \u001b[36m0:00:00\u001b[0m\n",
            "\u001b[?25hINFO: pip is looking at multiple versions of nltk to determine which version is compatible with other requirements. This could take a while.\n",
            "Collecting nltk>=3.5\n",
            "  Downloading nltk-3.8.1-py3-none-any.whl (1.5 MB)\n",
            "\u001b[2K     \u001b[90m━━━━━━━━━━━━━━━━━━━━━━━━━━━━━━━━━━━━━━━━\u001b[0m \u001b[32m1.5/1.5 MB\u001b[0m \u001b[31m51.4 MB/s\u001b[0m eta \u001b[36m0:00:00\u001b[0m\n",
            "\u001b[?25hINFO: pip is looking at multiple versions of fairseq to determine which version is compatible with other requirements. This could take a while.\n",
            "Collecting fairseq>=0.10.2\n",
            "  Downloading fairseq-0.12.1-cp38-cp38-manylinux_2_5_x86_64.manylinux1_x86_64.whl (11.0 MB)\n",
            "\u001b[2K     \u001b[90m━━━━━━━━━━━━━━━━━━━━━━━━━━━━━━━━━━━━━━━━\u001b[0m \u001b[32m11.0/11.0 MB\u001b[0m \u001b[31m81.5 MB/s\u001b[0m eta \u001b[36m0:00:00\u001b[0m\n",
            "\u001b[?25h  Downloading fairseq-0.12.0-cp38-cp38-manylinux_2_5_x86_64.manylinux1_x86_64.whl (11.0 MB)\n",
            "\u001b[2K     \u001b[90m━━━━━━━━━━━━━━━━━━━━━━━━━━━━━━━━━━━━━━━━\u001b[0m \u001b[32m11.0/11.0 MB\u001b[0m \u001b[31m53.6 MB/s\u001b[0m eta \u001b[36m0:00:00\u001b[0m\n",
            "\u001b[?25h  Downloading fairseq-0.11.1-cp38-cp38-manylinux_2_5_x86_64.manylinux1_x86_64.whl (11.0 MB)\n",
            "\u001b[2K     \u001b[90m━━━━━━━━━━━━━━━━━━━━━━━━━━━━━━━━━━━━━━━━\u001b[0m \u001b[32m11.0/11.0 MB\u001b[0m \u001b[31m59.7 MB/s\u001b[0m eta \u001b[36m0:00:00\u001b[0m\n",
            "\u001b[?25h  Downloading fairseq-0.10.2-cp38-cp38-manylinux1_x86_64.whl (1.7 MB)\n",
            "\u001b[2K     \u001b[90m━━━━━━━━━━━━━━━━━━━━━━━━━━━━━━━━━━━━━━━━\u001b[0m \u001b[32m1.7/1.7 MB\u001b[0m \u001b[31m54.2 MB/s\u001b[0m eta \u001b[36m0:00:00\u001b[0m\n",
            "\u001b[?25hCollecting dataclasses\n",
            "  Downloading dataclasses-0.6-py3-none-any.whl (14 kB)\n",
            "Collecting hydra-core\n",
            "  Downloading hydra_core-1.3.1-py3-none-any.whl (154 kB)\n",
            "\u001b[2K     \u001b[90m━━━━━━━━━━━━━━━━━━━━━━━━━━━━━━━━━━━━━━\u001b[0m \u001b[32m154.1/154.1 kB\u001b[0m \u001b[31m21.5 MB/s\u001b[0m eta \u001b[36m0:00:00\u001b[0m\n",
            "\u001b[?25hRequirement already satisfied: pycparser in /usr/local/lib/python3.8/dist-packages (from cffi->fairseq>=0.10.2->pororo==0.4.1) (2.21)\n",
            "Collecting omegaconf<2.4,>=2.2\n",
            "  Downloading omegaconf-2.3.0-py3-none-any.whl (79 kB)\n",
            "\u001b[2K     \u001b[90m━━━━━━━━━━━━━━━━━━━━━━━━━━━━━━━━━━━━━━━━\u001b[0m \u001b[32m79.5/79.5 kB\u001b[0m \u001b[31m10.8 MB/s\u001b[0m eta \u001b[36m0:00:00\u001b[0m\n",
            "\u001b[?25hCollecting antlr4-python3-runtime==4.9.*\n",
            "  Downloading antlr4-python3-runtime-4.9.3.tar.gz (117 kB)\n",
            "\u001b[2K     \u001b[90m━━━━━━━━━━━━━━━━━━━━━━━━━━━━━━━━━━━━━━\u001b[0m \u001b[32m117.0/117.0 kB\u001b[0m \u001b[31m18.2 MB/s\u001b[0m eta \u001b[36m0:00:00\u001b[0m\n",
            "\u001b[?25h  Preparing metadata (setup.py) ... \u001b[?25l\u001b[?25hdone\n",
            "Requirement already satisfied: pyarrow in /usr/local/lib/python3.8/dist-packages (from pecab->kss->pororo==0.4.1) (9.0.0)\n",
            "Requirement already satisfied: pytest in /usr/local/lib/python3.8/dist-packages (from pecab->kss->pororo==0.4.1) (3.6.4)\n",
            "Requirement already satisfied: urllib3!=1.25.0,!=1.25.1,<1.26,>=1.21.1 in /usr/local/lib/python3.8/dist-packages (from requests->transformers>=4.0.0->pororo==0.4.1) (1.24.3)\n",
            "Requirement already satisfied: certifi>=2017.4.17 in /usr/local/lib/python3.8/dist-packages (from requests->transformers>=4.0.0->pororo==0.4.1) (2022.12.7)\n",
            "Requirement already satisfied: idna<3,>=2.5 in /usr/local/lib/python3.8/dist-packages (from requests->transformers>=4.0.0->pororo==0.4.1) (2.10)\n",
            "Requirement already satisfied: chardet<4,>=3.0.2 in /usr/local/lib/python3.8/dist-packages (from requests->transformers>=4.0.0->pororo==0.4.1) (3.0.4)\n",
            "Requirement already satisfied: threadpoolctl>=2.0.0 in /usr/local/lib/python3.8/dist-packages (from scikit-learn->sentence_transformers>=0.4.1.2->pororo==0.4.1) (3.1.0)\n",
            "Requirement already satisfied: zipp>=3.1.0 in /usr/local/lib/python3.8/dist-packages (from importlib-resources->hydra-core<1.1,>=1.0.7->fairseq>=0.10.2->pororo==0.4.1) (3.11.0)\n",
            "Requirement already satisfied: atomicwrites>=1.0 in /usr/local/lib/python3.8/dist-packages (from pytest->pecab->kss->pororo==0.4.1) (1.4.1)\n",
            "Requirement already satisfied: attrs>=17.4.0 in /usr/local/lib/python3.8/dist-packages (from pytest->pecab->kss->pororo==0.4.1) (22.1.0)\n",
            "Requirement already satisfied: py>=1.5.0 in /usr/local/lib/python3.8/dist-packages (from pytest->pecab->kss->pororo==0.4.1) (1.11.0)\n",
            "Requirement already satisfied: pluggy<0.8,>=0.5 in /usr/local/lib/python3.8/dist-packages (from pytest->pecab->kss->pororo==0.4.1) (0.7.1)\n",
            "Requirement already satisfied: six>=1.10.0 in /usr/local/lib/python3.8/dist-packages (from pytest->pecab->kss->pororo==0.4.1) (1.15.0)\n",
            "Requirement already satisfied: more-itertools>=4.0.0 in /usr/local/lib/python3.8/dist-packages (from pytest->pecab->kss->pororo==0.4.1) (9.0.0)\n",
            "Building wheels for collected packages: sentence_transformers, kss, wget, distance, antlr4-python3-runtime, pecab\n",
            "  Building wheel for sentence_transformers (setup.py) ... \u001b[?25l\u001b[?25hdone\n",
            "  Created wheel for sentence_transformers: filename=sentence_transformers-2.2.2-py3-none-any.whl size=125938 sha256=6dcee3aa9ec0456c5408ead7107f8442fab2ff6a6e6c55170e100969722ca381\n",
            "  Stored in directory: /root/.cache/pip/wheels/30/b4/1c/7509ecb4c391a7be4cdf2ff04df077a568cd52471007e436e6\n",
            "  Building wheel for kss (setup.py) ... \u001b[?25l\u001b[?25hdone\n",
            "  Created wheel for kss: filename=kss-4.2.0-py3-none-any.whl size=44268 sha256=50213a05b7492ef6f856f2c598b9c87b3bc93c6384877ef42ff8cb9850187ca2\n",
            "  Stored in directory: /root/.cache/pip/wheels/88/17/d8/ee0c8a8793d0c1e9b641fa98b66f5f01c54744094caa2b63fc\n",
            "  Building wheel for wget (setup.py) ... \u001b[?25l\u001b[?25hdone\n",
            "  Created wheel for wget: filename=wget-3.2-py3-none-any.whl size=9674 sha256=4abe7c2cbca6cd02ce58480af1f13c0d41530fc949b919e09f8ed1d02f164367\n",
            "  Stored in directory: /root/.cache/pip/wheels/46/4a/43/6e71c9584e8b20b326931deaf89f11bf4db1bda170ac38e7b4\n",
            "  Building wheel for distance (setup.py) ... \u001b[?25l\u001b[?25hdone\n",
            "  Created wheel for distance: filename=Distance-0.1.3-py3-none-any.whl size=16275 sha256=f709fdd99d9f9b7cd83ec9d887c4d73c3cefc9cf35c3c2108a15e72af6bd02a6\n",
            "  Stored in directory: /root/.cache/pip/wheels/06/e2/ef/ea4693333706cddb28606cbdcf670a12d5b13f02372937fdf6\n",
            "  Building wheel for antlr4-python3-runtime (setup.py) ... \u001b[?25l\u001b[?25hdone\n",
            "  Created wheel for antlr4-python3-runtime: filename=antlr4_python3_runtime-4.9.3-py3-none-any.whl size=144575 sha256=053eafba83eb194091d13cef5ef74de199c06632c29c2892a15db96d1797692e\n",
            "  Stored in directory: /root/.cache/pip/wheels/11/20/e3/33bfd201db65084a9bb7ec0fd4040c2a7b59bb155698396a7c\n",
            "  Building wheel for pecab (setup.py) ... \u001b[?25l\u001b[?25hdone\n",
            "  Created wheel for pecab: filename=pecab-1.0.8-py3-none-any.whl size=26646667 sha256=795c5d86320e4f7ab09a5f21d5ce8fbed54cb1b6599226b933640ed876c9f187\n",
            "  Stored in directory: /root/.cache/pip/wheels/16/5f/78/df847c8c75665934ea02b56c17fba3c239c208e76a9956e67b\n",
            "Successfully built sentence_transformers kss wget distance antlr4-python3-runtime pecab\n",
            "Installing collected packages: whoosh, wget, tokenizers, sentencepiece, emoji, distance, dataclasses, antlr4-python3-runtime, torch, portalocker, omegaconf, marisa-trie, colorama, word2word, torchvision, sacrebleu, pecab, hydra-core, huggingface-hub, g2p_en, transformers, kss, fairseq, sentence_transformers, pororo\n",
            "  Attempting uninstall: torch\n",
            "    Found existing installation: torch 1.13.0+cu116\n",
            "    Uninstalling torch-1.13.0+cu116:\n",
            "      Successfully uninstalled torch-1.13.0+cu116\n",
            "  Attempting uninstall: torchvision\n",
            "    Found existing installation: torchvision 0.14.0+cu116\n",
            "    Uninstalling torchvision-0.14.0+cu116:\n",
            "      Successfully uninstalled torchvision-0.14.0+cu116\n",
            "  Running setup.py develop for pororo\n",
            "\u001b[31mERROR: pip's dependency resolver does not currently take into account all the packages that are installed. This behaviour is the source of the following dependency conflicts.\n",
            "torchtext 0.14.0 requires torch==1.13.0, but you have torch 1.6.0 which is incompatible.\n",
            "torchaudio 0.13.0+cu116 requires torch==1.13.0, but you have torch 1.6.0 which is incompatible.\n",
            "fastai 2.7.10 requires torch<1.14,>=1.7, but you have torch 1.6.0 which is incompatible.\n",
            "fastai 2.7.10 requires torchvision>=0.8.2, but you have torchvision 0.7.0 which is incompatible.\u001b[0m\u001b[31m\n",
            "\u001b[0mSuccessfully installed antlr4-python3-runtime-4.9.3 colorama-0.4.6 dataclasses-0.6 distance-0.1.3 emoji-1.2.0 fairseq-0.10.2 g2p_en-2.1.0 huggingface-hub-0.11.1 hydra-core-1.3.1 kss-4.2.0 marisa-trie-0.7.8 omegaconf-2.3.0 pecab-1.0.8 pororo-0.4.1 portalocker-2.6.0 sacrebleu-2.3.1 sentence_transformers-2.2.2 sentencepiece-0.1.97 tokenizers-0.13.2 torch-1.6.0 torchvision-0.7.0 transformers-4.25.1 wget-3.2 whoosh-2.7.4 word2word-1.0.0\n",
            "\u001b[33mWARNING: Running pip as the 'root' user can result in broken permissions and conflicting behaviour with the system package manager. It is recommended to use a virtual environment instead: https://pip.pypa.io/warnings/venv\u001b[0m\u001b[33m\n",
            "\u001b[0m"
          ]
        }
      ]
    },
    {
      "cell_type": "code",
      "source": [
        "! pip install konlpy"
      ],
      "metadata": {
        "id": "lx1XWan6jQE5",
        "colab": {
          "base_uri": "https://localhost:8080/"
        },
        "outputId": "61ea3b52-c5b6-48b1-da00-c443bff62844"
      },
      "execution_count": 12,
      "outputs": [
        {
          "output_type": "stream",
          "name": "stdout",
          "text": [
            "Looking in indexes: https://pypi.org/simple, https://us-python.pkg.dev/colab-wheels/public/simple/\n",
            "Collecting konlpy\n",
            "  Downloading konlpy-0.6.0-py2.py3-none-any.whl (19.4 MB)\n",
            "\u001b[2K     \u001b[90m━━━━━━━━━━━━━━━━━━━━━━━━━━━━━━━━━━━━━━━━\u001b[0m \u001b[32m19.4/19.4 MB\u001b[0m \u001b[31m30.2 MB/s\u001b[0m eta \u001b[36m0:00:00\u001b[0m\n",
            "\u001b[?25hCollecting JPype1>=0.7.0\n",
            "  Downloading JPype1-1.4.1-cp38-cp38-manylinux_2_12_x86_64.manylinux2010_x86_64.whl (465 kB)\n",
            "\u001b[2K     \u001b[90m━━━━━━━━━━━━━━━━━━━━━━━━━━━━━━━━━━━━━━\u001b[0m \u001b[32m465.6/465.6 kB\u001b[0m \u001b[31m39.0 MB/s\u001b[0m eta \u001b[36m0:00:00\u001b[0m\n",
            "\u001b[?25hRequirement already satisfied: lxml>=4.1.0 in /usr/local/lib/python3.8/dist-packages (from konlpy) (4.9.2)\n",
            "Requirement already satisfied: numpy>=1.6 in /usr/local/lib/python3.8/dist-packages (from konlpy) (1.21.6)\n",
            "Requirement already satisfied: packaging in /usr/local/lib/python3.8/dist-packages (from JPype1>=0.7.0->konlpy) (21.3)\n",
            "Requirement already satisfied: pyparsing!=3.0.5,>=2.0.2 in /usr/local/lib/python3.8/dist-packages (from packaging->JPype1>=0.7.0->konlpy) (3.0.9)\n",
            "Installing collected packages: JPype1, konlpy\n",
            "Successfully installed JPype1-1.4.1 konlpy-0.6.0\n",
            "\u001b[33mWARNING: Running pip as the 'root' user can result in broken permissions and conflicting behaviour with the system package manager. It is recommended to use a virtual environment instead: https://pip.pypa.io/warnings/venv\u001b[0m\u001b[33m\n",
            "\u001b[0m"
          ]
        }
      ]
    },
    {
      "cell_type": "markdown",
      "source": [
        "# 데이터 전처리\n",
        "## 아이디어\n",
        "- re 사용하여 데이터 정제\n",
        "- 데이터 살펴보고 예외처리\n",
        "- 토크나이저로 명사만 가져오기\n",
        "- Pororo 제로샷학습 상관관계 분석 후 최소값 제거(5단어 이상일 경우만)"
      ],
      "metadata": {
        "id": "Qn5sLJBbpEST"
      }
    },
    {
      "cell_type": "code",
      "source": [
        "# Hannanum(한나눔)\n",
        "from konlpy.tag import Hannanum\n",
        "tokenizer=Hannanum()"
      ],
      "metadata": {
        "id": "USYCZ0UtjR3q"
      },
      "execution_count": 13,
      "outputs": []
    },
    {
      "cell_type": "code",
      "source": [
        "from pororo import Pororo\n",
        "from tqdm import tqdm \n",
        "import numpy as np\n",
        "import re"
      ],
      "metadata": {
        "id": "CtoLgHP3ONEF"
      },
      "execution_count": 14,
      "outputs": []
    },
    {
      "cell_type": "markdown",
      "source": [
        "## 사용한 함수들"
      ],
      "metadata": {
        "id": "RAGcutQvpkZg"
      }
    },
    {
      "cell_type": "code",
      "source": [
        "## 원시데이터 정제\n",
        "def first_eda(df):\n",
        "  df['title'] = [re.sub('[0-9]+[개|팩|인]', '', s) for s in df['title']]\n",
        "  df['title'] = [re.sub('[()]', '', s) for s in df['title']]\n",
        "  df['title'] = [re.sub('[^가-힣\\s]', '', s) for s in df['title']]\n",
        "  df['title'] = [re.sub('주문', '', s) for s in df['title']]\n",
        "  df['title'] = [re.sub('[\\xa0]', ' ', s) for s in df['title']]\n",
        "  df['title'] = [re.sub('전라도', '', s) for s in df['title']]\n",
        "\n",
        "  df.drop_duplicates(['title'], inplace=True)\n",
        "  df.drop(df.index[3], inplace=True)\n",
        "  df.dropna(axis=0, inplace=True)\n",
        "  df.reset_index(drop=True, inplace=True)\n",
        "  return df"
      ],
      "metadata": {
        "id": "vokjiqMitGiM"
      },
      "execution_count": 36,
      "outputs": []
    },
    {
      "cell_type": "code",
      "source": [
        "## 토큰화(토크나이저 사용)\n",
        "def tokenizing(titles):\n",
        "  title = []\n",
        "  token_list = []\n",
        "  for text in titles:\n",
        "    tt = re.sub(r\"[^ㄱ-ㅣ가-힣\\s]\", \"\", text)\n",
        "    ttt = tt.replace(u'\\xa0', u'')\n",
        "    ttt = tt.replace(u'\\u3000', u'')\n",
        "    if ttt[0] == ' ':\n",
        "      title.append('쓰레기')\n",
        "    else:\n",
        "      title.append(ttt)\n",
        "  for t in tqdm(title):\n",
        "    token_list.append(tokenizer.nouns(t))\n",
        "  return token_list"
      ],
      "metadata": {
        "id": "4CPjscEJ-KUo"
      },
      "execution_count": 59,
      "outputs": []
    },
    {
      "cell_type": "code",
      "source": [
        "## 토큰 중복 제거\n",
        "def dupcheck(title_token):\n",
        "  title = []\n",
        "  for i in tqdm(title_token):\n",
        "    result = []\n",
        "    for j in i:\n",
        "      if j not in result:\n",
        "        result.append(j)\n",
        "    title.append(result)\n",
        "  return title"
      ],
      "metadata": {
        "id": "sjJkbXUTDcWY"
      },
      "execution_count": 16,
      "outputs": []
    },
    {
      "cell_type": "code",
      "source": [
        "## 토큰 전처리\n",
        "def token_eda(category, title_token):\n",
        "  for i in tqdm(range(len(category))): \n",
        "    if len(title_token[i]) >=6:\n",
        "      result = topic_cls(category[i], title_token[i])\n",
        "      trash = min(result, key=(lambda k: result[k]))\n",
        "      title_token[i].remove(trash)\n",
        "  return title_token"
      ],
      "metadata": {
        "id": "Sa1aXzqbBJGN"
      },
      "execution_count": 131,
      "outputs": []
    },
    {
      "cell_type": "code",
      "source": [
        "## 토큰들 문자열로 결합\n",
        "def tokenToString(token_list):\n",
        "    res = []\n",
        "    for token in tqdm(token_list):\n",
        "      s = ' '.join(token)\n",
        "      res.append(s)\n",
        "    return res"
      ],
      "metadata": {
        "id": "c1O6M0K2JQGA"
      },
      "execution_count": 17,
      "outputs": []
    },
    {
      "cell_type": "code",
      "source": [
        "## 쓰레기 데이터 제거(토크나이징EDA 산물)\n",
        "def trash_check(df):\n",
        "  idx = df[df['eda_title'] == '쓰레기'].index\n",
        "  df.drop(idx, inplace=True)\n",
        "  df.dropna(axis=0, inplace=True)\n",
        "  df.reset_index(drop=True, inplace=True)\n",
        "  return df"
      ],
      "metadata": {
        "id": "pRT-Q_xmr984"
      },
      "execution_count": 18,
      "outputs": []
    },
    {
      "cell_type": "markdown",
      "source": [
        "# 전처리 (1차 시도)"
      ],
      "metadata": {
        "id": "1jjwGSdeptHX"
      }
    },
    {
      "cell_type": "code",
      "execution_count": 2,
      "metadata": {
        "id": "YyXSTpqpm_Vo"
      },
      "outputs": [],
      "source": [
        "import pandas as pd"
      ]
    },
    {
      "cell_type": "code",
      "source": [
        "data = pd.read_csv('/content/final_ver1.csv', encoding='UTF-8', index_col=0)"
      ],
      "metadata": {
        "id": "WL_oGTJUq8z5"
      },
      "execution_count": 39,
      "outputs": []
    },
    {
      "cell_type": "code",
      "source": [
        "# 데이터 준비\n",
        "df = first_eda(data)"
      ],
      "metadata": {
        "id": "Hfq3NRgjnlZk"
      },
      "execution_count": null,
      "outputs": []
    },
    {
      "cell_type": "code",
      "source": [
        "df"
      ],
      "metadata": {
        "colab": {
          "base_uri": "https://localhost:8080/",
          "height": 424
        },
        "id": "lgIQYhxcDSGx",
        "outputId": "333c3c6b-9108-46de-ebe2-a2810d336b25"
      },
      "execution_count": 46,
      "outputs": [
        {
          "output_type": "execute_result",
          "data": {
            "text/plain": [
              "                                          title category sub_category  price\n",
              "0                        국내산   배추 김치 포기 김장김치 주문       김치         포기김치  15900\n",
              "1                                피코크 조선호텔 포기김치        김치         포기김치  51040\n",
              "2                             대상 종가집 행복이온 포기김치        김치         포기김치  34200\n",
              "3                선화동매운실비김치 맛있게 매운 대전 선화동 실비 김치        김치         포기김치  11080\n",
              "4                                    엄마손맛 포기김치        김치         포기김치  27900\n",
              "...                                         ...      ...          ...    ...\n",
              "241851  먹템 매콤한 낙곱새 극락 밀키트인분 팩 캠핑음식 용밀 간편조리식품 키트      밀키트         찌개/국  63370\n",
              "241852                  연말축제  청정원 호밍스 한우진곰탕   개      밀키트         찌개/국  25500\n",
              "241853                프레시지 프레시지 간편한 직화용기 꼬치어묵탕       밀키트         찌개/국  11860\n",
              "241854                아임셰프 마라 밀푀유나베 밀키트 쿠킹박스 인분      밀키트         찌개/국  16900\n",
              "241855  팟쿡 어디서든 불렌지 없이 조리 가능한 전골 나베종 비화식 캠핑 백패킹      밀키트         찌개/국  18900\n",
              "\n",
              "[241856 rows x 4 columns]"
            ],
            "text/html": [
              "\n",
              "  <div id=\"df-5787db37-d77e-4462-8945-bf8e7311027f\">\n",
              "    <div class=\"colab-df-container\">\n",
              "      <div>\n",
              "<style scoped>\n",
              "    .dataframe tbody tr th:only-of-type {\n",
              "        vertical-align: middle;\n",
              "    }\n",
              "\n",
              "    .dataframe tbody tr th {\n",
              "        vertical-align: top;\n",
              "    }\n",
              "\n",
              "    .dataframe thead th {\n",
              "        text-align: right;\n",
              "    }\n",
              "</style>\n",
              "<table border=\"1\" class=\"dataframe\">\n",
              "  <thead>\n",
              "    <tr style=\"text-align: right;\">\n",
              "      <th></th>\n",
              "      <th>title</th>\n",
              "      <th>category</th>\n",
              "      <th>sub_category</th>\n",
              "      <th>price</th>\n",
              "    </tr>\n",
              "  </thead>\n",
              "  <tbody>\n",
              "    <tr>\n",
              "      <th>0</th>\n",
              "      <td>국내산   배추 김치 포기 김장김치 주문</td>\n",
              "      <td>김치</td>\n",
              "      <td>포기김치</td>\n",
              "      <td>15900</td>\n",
              "    </tr>\n",
              "    <tr>\n",
              "      <th>1</th>\n",
              "      <td>피코크 조선호텔 포기김치</td>\n",
              "      <td>김치</td>\n",
              "      <td>포기김치</td>\n",
              "      <td>51040</td>\n",
              "    </tr>\n",
              "    <tr>\n",
              "      <th>2</th>\n",
              "      <td>대상 종가집 행복이온 포기김치</td>\n",
              "      <td>김치</td>\n",
              "      <td>포기김치</td>\n",
              "      <td>34200</td>\n",
              "    </tr>\n",
              "    <tr>\n",
              "      <th>3</th>\n",
              "      <td>선화동매운실비김치 맛있게 매운 대전 선화동 실비 김치</td>\n",
              "      <td>김치</td>\n",
              "      <td>포기김치</td>\n",
              "      <td>11080</td>\n",
              "    </tr>\n",
              "    <tr>\n",
              "      <th>4</th>\n",
              "      <td>엄마손맛 포기김치</td>\n",
              "      <td>김치</td>\n",
              "      <td>포기김치</td>\n",
              "      <td>27900</td>\n",
              "    </tr>\n",
              "    <tr>\n",
              "      <th>...</th>\n",
              "      <td>...</td>\n",
              "      <td>...</td>\n",
              "      <td>...</td>\n",
              "      <td>...</td>\n",
              "    </tr>\n",
              "    <tr>\n",
              "      <th>241851</th>\n",
              "      <td>먹템 매콤한 낙곱새 극락 밀키트인분 팩 캠핑음식 용밀 간편조리식품 키트</td>\n",
              "      <td>밀키트</td>\n",
              "      <td>찌개/국</td>\n",
              "      <td>63370</td>\n",
              "    </tr>\n",
              "    <tr>\n",
              "      <th>241852</th>\n",
              "      <td>연말축제  청정원 호밍스 한우진곰탕   개</td>\n",
              "      <td>밀키트</td>\n",
              "      <td>찌개/국</td>\n",
              "      <td>25500</td>\n",
              "    </tr>\n",
              "    <tr>\n",
              "      <th>241853</th>\n",
              "      <td>프레시지 프레시지 간편한 직화용기 꼬치어묵탕</td>\n",
              "      <td>밀키트</td>\n",
              "      <td>찌개/국</td>\n",
              "      <td>11860</td>\n",
              "    </tr>\n",
              "    <tr>\n",
              "      <th>241854</th>\n",
              "      <td>아임셰프 마라 밀푀유나베 밀키트 쿠킹박스 인분</td>\n",
              "      <td>밀키트</td>\n",
              "      <td>찌개/국</td>\n",
              "      <td>16900</td>\n",
              "    </tr>\n",
              "    <tr>\n",
              "      <th>241855</th>\n",
              "      <td>팟쿡 어디서든 불렌지 없이 조리 가능한 전골 나베종 비화식 캠핑 백패킹</td>\n",
              "      <td>밀키트</td>\n",
              "      <td>찌개/국</td>\n",
              "      <td>18900</td>\n",
              "    </tr>\n",
              "  </tbody>\n",
              "</table>\n",
              "<p>241856 rows × 4 columns</p>\n",
              "</div>\n",
              "      <button class=\"colab-df-convert\" onclick=\"convertToInteractive('df-5787db37-d77e-4462-8945-bf8e7311027f')\"\n",
              "              title=\"Convert this dataframe to an interactive table.\"\n",
              "              style=\"display:none;\">\n",
              "        \n",
              "  <svg xmlns=\"http://www.w3.org/2000/svg\" height=\"24px\"viewBox=\"0 0 24 24\"\n",
              "       width=\"24px\">\n",
              "    <path d=\"M0 0h24v24H0V0z\" fill=\"none\"/>\n",
              "    <path d=\"M18.56 5.44l.94 2.06.94-2.06 2.06-.94-2.06-.94-.94-2.06-.94 2.06-2.06.94zm-11 1L8.5 8.5l.94-2.06 2.06-.94-2.06-.94L8.5 2.5l-.94 2.06-2.06.94zm10 10l.94 2.06.94-2.06 2.06-.94-2.06-.94-.94-2.06-.94 2.06-2.06.94z\"/><path d=\"M17.41 7.96l-1.37-1.37c-.4-.4-.92-.59-1.43-.59-.52 0-1.04.2-1.43.59L10.3 9.45l-7.72 7.72c-.78.78-.78 2.05 0 2.83L4 21.41c.39.39.9.59 1.41.59.51 0 1.02-.2 1.41-.59l7.78-7.78 2.81-2.81c.8-.78.8-2.07 0-2.86zM5.41 20L4 18.59l7.72-7.72 1.47 1.35L5.41 20z\"/>\n",
              "  </svg>\n",
              "      </button>\n",
              "      \n",
              "  <style>\n",
              "    .colab-df-container {\n",
              "      display:flex;\n",
              "      flex-wrap:wrap;\n",
              "      gap: 12px;\n",
              "    }\n",
              "\n",
              "    .colab-df-convert {\n",
              "      background-color: #E8F0FE;\n",
              "      border: none;\n",
              "      border-radius: 50%;\n",
              "      cursor: pointer;\n",
              "      display: none;\n",
              "      fill: #1967D2;\n",
              "      height: 32px;\n",
              "      padding: 0 0 0 0;\n",
              "      width: 32px;\n",
              "    }\n",
              "\n",
              "    .colab-df-convert:hover {\n",
              "      background-color: #E2EBFA;\n",
              "      box-shadow: 0px 1px 2px rgba(60, 64, 67, 0.3), 0px 1px 3px 1px rgba(60, 64, 67, 0.15);\n",
              "      fill: #174EA6;\n",
              "    }\n",
              "\n",
              "    [theme=dark] .colab-df-convert {\n",
              "      background-color: #3B4455;\n",
              "      fill: #D2E3FC;\n",
              "    }\n",
              "\n",
              "    [theme=dark] .colab-df-convert:hover {\n",
              "      background-color: #434B5C;\n",
              "      box-shadow: 0px 1px 3px 1px rgba(0, 0, 0, 0.15);\n",
              "      filter: drop-shadow(0px 1px 2px rgba(0, 0, 0, 0.3));\n",
              "      fill: #FFFFFF;\n",
              "    }\n",
              "  </style>\n",
              "\n",
              "      <script>\n",
              "        const buttonEl =\n",
              "          document.querySelector('#df-5787db37-d77e-4462-8945-bf8e7311027f button.colab-df-convert');\n",
              "        buttonEl.style.display =\n",
              "          google.colab.kernel.accessAllowed ? 'block' : 'none';\n",
              "\n",
              "        async function convertToInteractive(key) {\n",
              "          const element = document.querySelector('#df-5787db37-d77e-4462-8945-bf8e7311027f');\n",
              "          const dataTable =\n",
              "            await google.colab.kernel.invokeFunction('convertToInteractive',\n",
              "                                                     [key], {});\n",
              "          if (!dataTable) return;\n",
              "\n",
              "          const docLinkHtml = 'Like what you see? Visit the ' +\n",
              "            '<a target=\"_blank\" href=https://colab.research.google.com/notebooks/data_table.ipynb>data table notebook</a>'\n",
              "            + ' to learn more about interactive tables.';\n",
              "          element.innerHTML = '';\n",
              "          dataTable['output_type'] = 'display_data';\n",
              "          await google.colab.output.renderOutput(dataTable, element);\n",
              "          const docLink = document.createElement('div');\n",
              "          docLink.innerHTML = docLinkHtml;\n",
              "          element.appendChild(docLink);\n",
              "        }\n",
              "      </script>\n",
              "    </div>\n",
              "  </div>\n",
              "  "
            ]
          },
          "metadata": {},
          "execution_count": 46
        }
      ]
    },
    {
      "cell_type": "code",
      "source": [
        "# 토크나이징\n",
        "title_token = tokenizing(df['title'])\n",
        "titles = dupcheck(title_token)"
      ],
      "metadata": {
        "id": "4u_jd1nc-KR3"
      },
      "execution_count": null,
      "outputs": []
    },
    {
      "cell_type": "code",
      "source": [
        "# Pororo 제로샷 분류모델\n",
        "topic_cls = Pororo(task='zero-topic', lang='ko')"
      ],
      "metadata": {
        "colab": {
          "base_uri": "https://localhost:8080/"
        },
        "id": "QUx8BfoROCRN",
        "outputId": "fb0d63da-3a0f-467c-b219-483e25528089"
      },
      "execution_count": 22,
      "outputs": [
        {
          "output_type": "stream",
          "name": "stderr",
          "text": [
            "\n",
            "\n"
          ]
        }
      ]
    },
    {
      "cell_type": "code",
      "source": [
        "# 토큰 EDA / 데이터저장\n",
        "titl_list = token_eda(df['sub_category'], titles)\n",
        "new = tokenToString(titl_list)\n",
        "eda = pd.DataFrame(zip(new))\n",
        "df['eda_title'] = eda[0]\n",
        "df.to_csv('/content/drive/MyDrive/project3/finish.csv', index=False)"
      ],
      "metadata": {
        "id": "5wsp0wBGtTCc"
      },
      "execution_count": null,
      "outputs": []
    },
    {
      "cell_type": "markdown",
      "source": [
        "# 결론\n",
        "\n",
        "\n",
        "---\n",
        "\n",
        "\n",
        "# 토크나이징의 한계\n",
        "1. 명사 분류의 문제 - (소고기 -> 소고, 오리 -> 오)\n",
        "-기, -리 등을 무조건 조사 처리하는 문제점.\n",
        "2. 토크나이저마다 예외 처리 방식이 다름.\n",
        "\n",
        "Okt의 경우 별다른 예외처리가 필요없었지만,\n",
        "\n",
        "Komoran, Hannanum은 null값 처리가 필요했다.\n",
        "\n",
        "명사 토큰화에서 Hannanum이 상대적으로 명사를 조사와 분류하지 않는 경향성을 보여 선택했지만 일부였다.\n",
        "\n",
        "\n",
        "\n",
        "---\n",
        "\n",
        "\n",
        "\n",
        "## 따라서\n",
        "\n",
        "전처리에 토크나이저를 사용하지 않고\n",
        "\n",
        "split으로 단어를 나눠 처리한 뒤 재결합 하는 방법을 채택.\n",
        "\n",
        ".isdigit(), .isalnum() 을 사용해 예외를 처리.\n",
        "\n",
        "- any(), isdigit() - 한글자라도 숫자가 같이 묶인 단어는 포함X (1개, 1통, 1병, 1팩 등의 단위)\n",
        "\n",
        "- .isalnum() - 글자 단위로 나눠 특수문자만 제거하고 가져오기\n",
        "\n",
        "- re.sub() 로 영어 제거, 공백은 split()후 재결합으로 제거.\n",
        "\n",
        "- 품명에 한 단어만 존재하는 경우 제거 (브랜드명만 있는 경우가 있어 의미 없다 판단함)\n",
        "\n"
      ],
      "metadata": {
        "id": "S6kbuvSBqTRB"
      }
    },
    {
      "cell_type": "markdown",
      "source": [
        "# 전처리 (2차 시도)\n",
        "## 토크나이저 사용 X"
      ],
      "metadata": {
        "id": "YyhHlZtvtkeS"
      }
    },
    {
      "cell_type": "code",
      "source": [
        "data2 = pd.read_csv('/content/final.csv', encoding='UTF-8', index_col=0)"
      ],
      "metadata": {
        "id": "OmJTMfK3EbAW"
      },
      "execution_count": 165,
      "outputs": []
    },
    {
      "cell_type": "code",
      "source": [
        "data2.reset_index(drop=True, inplace=True)"
      ],
      "metadata": {
        "id": "L4OKlcdMiVvL"
      },
      "execution_count": 166,
      "outputs": []
    },
    {
      "cell_type": "code",
      "source": [
        "data2"
      ],
      "metadata": {
        "colab": {
          "base_uri": "https://localhost:8080/",
          "height": 424
        },
        "id": "qPxYLzodJ4hh",
        "outputId": "54b91e5d-8699-4d61-ae05-914ff774f46e"
      },
      "execution_count": 167,
      "outputs": [
        {
          "output_type": "execute_result",
          "data": {
            "text/plain": [
              "                                                title category sub_category  \\\n",
              "0                       국내산 100% 전라도 배추 김치 포기 김장김치 주문       김치         포기김치   \n",
              "1                                   피코크 조선호텔 포기김치 8kg       김치         포기김치   \n",
              "2                               대상 종가집 행복이온 포기김치 10kg       김치         포기김치   \n",
              "3                           대상 종가집 전라도 행복이온 포기김치 10kg       김치         포기김치   \n",
              "4                  선화동매운실비김치 맛있게 매운 대전 선화동 실비 김치 800g       김치         포기김치   \n",
              "...                                               ...      ...          ...   \n",
              "265030  먹템 매콤한 낙곱새 극락 밀키트(2-3인분) 4팩 캠핑음식 용밀 간편조리식품 키트      밀키트         찌개/국   \n",
              "265031            [연말축제 1+1] 청정원 호밍스 한우진곰탕 450g X 10개      밀키트         찌개/국   \n",
              "265032                  프레시지 프레시지 간편한 직화용기 꼬치어묵탕 818g      밀키트         찌개/국   \n",
              "265033                   아임셰프 마라 밀푀유나베 밀키트 쿠킹박스 (2인분)      밀키트         찌개/국   \n",
              "265034    팟쿡 어디서든 불/렌지 없이 조리 가능한 전골 나베4종 (비화식 캠핑 백패킹)      밀키트         찌개/국   \n",
              "\n",
              "        price  \n",
              "0       15900  \n",
              "1       51040  \n",
              "2       34200  \n",
              "3       46840  \n",
              "4       11080  \n",
              "...       ...  \n",
              "265030  63370  \n",
              "265031  25500  \n",
              "265032  11860  \n",
              "265033  16900  \n",
              "265034  18900  \n",
              "\n",
              "[265035 rows x 4 columns]"
            ],
            "text/html": [
              "\n",
              "  <div id=\"df-3f9c2e10-8149-4d0c-9091-cc6016718baf\">\n",
              "    <div class=\"colab-df-container\">\n",
              "      <div>\n",
              "<style scoped>\n",
              "    .dataframe tbody tr th:only-of-type {\n",
              "        vertical-align: middle;\n",
              "    }\n",
              "\n",
              "    .dataframe tbody tr th {\n",
              "        vertical-align: top;\n",
              "    }\n",
              "\n",
              "    .dataframe thead th {\n",
              "        text-align: right;\n",
              "    }\n",
              "</style>\n",
              "<table border=\"1\" class=\"dataframe\">\n",
              "  <thead>\n",
              "    <tr style=\"text-align: right;\">\n",
              "      <th></th>\n",
              "      <th>title</th>\n",
              "      <th>category</th>\n",
              "      <th>sub_category</th>\n",
              "      <th>price</th>\n",
              "    </tr>\n",
              "  </thead>\n",
              "  <tbody>\n",
              "    <tr>\n",
              "      <th>0</th>\n",
              "      <td>국내산 100% 전라도 배추 김치 포기 김장김치 주문</td>\n",
              "      <td>김치</td>\n",
              "      <td>포기김치</td>\n",
              "      <td>15900</td>\n",
              "    </tr>\n",
              "    <tr>\n",
              "      <th>1</th>\n",
              "      <td>피코크 조선호텔 포기김치 8kg</td>\n",
              "      <td>김치</td>\n",
              "      <td>포기김치</td>\n",
              "      <td>51040</td>\n",
              "    </tr>\n",
              "    <tr>\n",
              "      <th>2</th>\n",
              "      <td>대상 종가집 행복이온 포기김치 10kg</td>\n",
              "      <td>김치</td>\n",
              "      <td>포기김치</td>\n",
              "      <td>34200</td>\n",
              "    </tr>\n",
              "    <tr>\n",
              "      <th>3</th>\n",
              "      <td>대상 종가집 전라도 행복이온 포기김치 10kg</td>\n",
              "      <td>김치</td>\n",
              "      <td>포기김치</td>\n",
              "      <td>46840</td>\n",
              "    </tr>\n",
              "    <tr>\n",
              "      <th>4</th>\n",
              "      <td>선화동매운실비김치 맛있게 매운 대전 선화동 실비 김치 800g</td>\n",
              "      <td>김치</td>\n",
              "      <td>포기김치</td>\n",
              "      <td>11080</td>\n",
              "    </tr>\n",
              "    <tr>\n",
              "      <th>...</th>\n",
              "      <td>...</td>\n",
              "      <td>...</td>\n",
              "      <td>...</td>\n",
              "      <td>...</td>\n",
              "    </tr>\n",
              "    <tr>\n",
              "      <th>265030</th>\n",
              "      <td>먹템 매콤한 낙곱새 극락 밀키트(2-3인분) 4팩 캠핑음식 용밀 간편조리식품 키트</td>\n",
              "      <td>밀키트</td>\n",
              "      <td>찌개/국</td>\n",
              "      <td>63370</td>\n",
              "    </tr>\n",
              "    <tr>\n",
              "      <th>265031</th>\n",
              "      <td>[연말축제 1+1] 청정원 호밍스 한우진곰탕 450g X 10개</td>\n",
              "      <td>밀키트</td>\n",
              "      <td>찌개/국</td>\n",
              "      <td>25500</td>\n",
              "    </tr>\n",
              "    <tr>\n",
              "      <th>265032</th>\n",
              "      <td>프레시지 프레시지 간편한 직화용기 꼬치어묵탕 818g</td>\n",
              "      <td>밀키트</td>\n",
              "      <td>찌개/국</td>\n",
              "      <td>11860</td>\n",
              "    </tr>\n",
              "    <tr>\n",
              "      <th>265033</th>\n",
              "      <td>아임셰프 마라 밀푀유나베 밀키트 쿠킹박스 (2인분)</td>\n",
              "      <td>밀키트</td>\n",
              "      <td>찌개/국</td>\n",
              "      <td>16900</td>\n",
              "    </tr>\n",
              "    <tr>\n",
              "      <th>265034</th>\n",
              "      <td>팟쿡 어디서든 불/렌지 없이 조리 가능한 전골 나베4종 (비화식 캠핑 백패킹)</td>\n",
              "      <td>밀키트</td>\n",
              "      <td>찌개/국</td>\n",
              "      <td>18900</td>\n",
              "    </tr>\n",
              "  </tbody>\n",
              "</table>\n",
              "<p>265035 rows × 4 columns</p>\n",
              "</div>\n",
              "      <button class=\"colab-df-convert\" onclick=\"convertToInteractive('df-3f9c2e10-8149-4d0c-9091-cc6016718baf')\"\n",
              "              title=\"Convert this dataframe to an interactive table.\"\n",
              "              style=\"display:none;\">\n",
              "        \n",
              "  <svg xmlns=\"http://www.w3.org/2000/svg\" height=\"24px\"viewBox=\"0 0 24 24\"\n",
              "       width=\"24px\">\n",
              "    <path d=\"M0 0h24v24H0V0z\" fill=\"none\"/>\n",
              "    <path d=\"M18.56 5.44l.94 2.06.94-2.06 2.06-.94-2.06-.94-.94-2.06-.94 2.06-2.06.94zm-11 1L8.5 8.5l.94-2.06 2.06-.94-2.06-.94L8.5 2.5l-.94 2.06-2.06.94zm10 10l.94 2.06.94-2.06 2.06-.94-2.06-.94-.94-2.06-.94 2.06-2.06.94z\"/><path d=\"M17.41 7.96l-1.37-1.37c-.4-.4-.92-.59-1.43-.59-.52 0-1.04.2-1.43.59L10.3 9.45l-7.72 7.72c-.78.78-.78 2.05 0 2.83L4 21.41c.39.39.9.59 1.41.59.51 0 1.02-.2 1.41-.59l7.78-7.78 2.81-2.81c.8-.78.8-2.07 0-2.86zM5.41 20L4 18.59l7.72-7.72 1.47 1.35L5.41 20z\"/>\n",
              "  </svg>\n",
              "      </button>\n",
              "      \n",
              "  <style>\n",
              "    .colab-df-container {\n",
              "      display:flex;\n",
              "      flex-wrap:wrap;\n",
              "      gap: 12px;\n",
              "    }\n",
              "\n",
              "    .colab-df-convert {\n",
              "      background-color: #E8F0FE;\n",
              "      border: none;\n",
              "      border-radius: 50%;\n",
              "      cursor: pointer;\n",
              "      display: none;\n",
              "      fill: #1967D2;\n",
              "      height: 32px;\n",
              "      padding: 0 0 0 0;\n",
              "      width: 32px;\n",
              "    }\n",
              "\n",
              "    .colab-df-convert:hover {\n",
              "      background-color: #E2EBFA;\n",
              "      box-shadow: 0px 1px 2px rgba(60, 64, 67, 0.3), 0px 1px 3px 1px rgba(60, 64, 67, 0.15);\n",
              "      fill: #174EA6;\n",
              "    }\n",
              "\n",
              "    [theme=dark] .colab-df-convert {\n",
              "      background-color: #3B4455;\n",
              "      fill: #D2E3FC;\n",
              "    }\n",
              "\n",
              "    [theme=dark] .colab-df-convert:hover {\n",
              "      background-color: #434B5C;\n",
              "      box-shadow: 0px 1px 3px 1px rgba(0, 0, 0, 0.15);\n",
              "      filter: drop-shadow(0px 1px 2px rgba(0, 0, 0, 0.3));\n",
              "      fill: #FFFFFF;\n",
              "    }\n",
              "  </style>\n",
              "\n",
              "      <script>\n",
              "        const buttonEl =\n",
              "          document.querySelector('#df-3f9c2e10-8149-4d0c-9091-cc6016718baf button.colab-df-convert');\n",
              "        buttonEl.style.display =\n",
              "          google.colab.kernel.accessAllowed ? 'block' : 'none';\n",
              "\n",
              "        async function convertToInteractive(key) {\n",
              "          const element = document.querySelector('#df-3f9c2e10-8149-4d0c-9091-cc6016718baf');\n",
              "          const dataTable =\n",
              "            await google.colab.kernel.invokeFunction('convertToInteractive',\n",
              "                                                     [key], {});\n",
              "          if (!dataTable) return;\n",
              "\n",
              "          const docLinkHtml = 'Like what you see? Visit the ' +\n",
              "            '<a target=\"_blank\" href=https://colab.research.google.com/notebooks/data_table.ipynb>data table notebook</a>'\n",
              "            + ' to learn more about interactive tables.';\n",
              "          element.innerHTML = '';\n",
              "          dataTable['output_type'] = 'display_data';\n",
              "          await google.colab.output.renderOutput(dataTable, element);\n",
              "          const docLink = document.createElement('div');\n",
              "          docLink.innerHTML = docLinkHtml;\n",
              "          element.appendChild(docLink);\n",
              "        }\n",
              "      </script>\n",
              "    </div>\n",
              "  </div>\n",
              "  "
            ]
          },
          "metadata": {},
          "execution_count": 167
        }
      ]
    },
    {
      "cell_type": "code",
      "source": [
        "## split(). 공백 기준 단어 분리\n",
        "token_list = []\n",
        "for title in data2['title']:\n",
        "  res = title.split()\n",
        "  token_list.append(res)"
      ],
      "metadata": {
        "id": "58Hg4lqiKFIc"
      },
      "execution_count": 168,
      "outputs": []
    },
    {
      "cell_type": "code",
      "source": [
        "## 중복 단어 제거\n",
        "token_list = dupcheck(token_list)"
      ],
      "metadata": {
        "colab": {
          "base_uri": "https://localhost:8080/"
        },
        "id": "VHCySKciKFEh",
        "outputId": "156928b3-95e3-4f74-fdd4-7d3d88247aac"
      },
      "execution_count": 169,
      "outputs": [
        {
          "output_type": "stream",
          "name": "stderr",
          "text": [
            "100%|██████████| 265035/265035 [00:00<00:00, 398928.34it/s]\n"
          ]
        }
      ]
    },
    {
      "cell_type": "code",
      "source": [
        "## 전처리\n",
        "tok = []\n",
        "for text in tqdm(token_list):\n",
        "  li = []\n",
        "  for i in text:\n",
        "    if any(temp.isdigit() for temp in i) == False: # 숫자와 붙어서 단어로 묶인 것들은 포함하지 않는다.\n",
        "      res = \"\"\n",
        "      for word in i:\n",
        "        if word.isalnum(): # 단어별로 한글만을 가져온다(특수문자 포함X)\n",
        "          res+=word\n",
        "          i = res\n",
        "      li.append(i)\n",
        "  tok.append(li)"
      ],
      "metadata": {
        "colab": {
          "base_uri": "https://localhost:8080/"
        },
        "id": "scUMMCDZT3Ib",
        "outputId": "0ca0cb76-fb94-4ce3-9ac4-9f0d86c35b59"
      },
      "execution_count": 170,
      "outputs": [
        {
          "output_type": "stream",
          "name": "stderr",
          "text": [
            "100%|██████████| 265035/265035 [00:02<00:00, 93583.14it/s]\n"
          ]
        }
      ]
    },
    {
      "cell_type": "code",
      "source": [
        "## 중복 토큰 제거\n",
        "tok2 = dupcheck(tok)"
      ],
      "metadata": {
        "colab": {
          "base_uri": "https://localhost:8080/"
        },
        "id": "q0OyOLNgKFBr",
        "outputId": "a3bdbf96-c9d1-4f37-dec0-ce35d4a49274"
      },
      "execution_count": 171,
      "outputs": [
        {
          "output_type": "stream",
          "name": "stderr",
          "text": [
            "100%|██████████| 265035/265035 [00:00<00:00, 729165.82it/s]\n"
          ]
        }
      ]
    },
    {
      "cell_type": "code",
      "source": [
        "## 토큰 재결합하여 문자열로\n",
        "tok3 = tokenToString(tok2)"
      ],
      "metadata": {
        "colab": {
          "base_uri": "https://localhost:8080/"
        },
        "id": "L-ZUX3n1J4ek",
        "outputId": "9a1d90d1-5151-4a56-83bc-151d1c9df513"
      },
      "execution_count": 172,
      "outputs": [
        {
          "output_type": "stream",
          "name": "stderr",
          "text": [
            "100%|██████████| 265035/265035 [00:00<00:00, 1398748.72it/s]\n"
          ]
        }
      ]
    },
    {
      "cell_type": "code",
      "source": [
        "## 토큰화\n",
        "def text(titles):\n",
        "  title = []\n",
        "  for text in titles:\n",
        "    tt = re.sub(r\"[^가-힣\\s]\", \"\", text) # 영어 제외\n",
        "    ttt = tt.replace(u'\\xa0', u'') # \\xa0, \\u3000 제외\n",
        "    ttt = tt.replace(u'\\u3000', u'')\n",
        "    if ttt == '':   # 모든 제품명이 영어인 경우\n",
        "      ttt = '쓰레기'  # 한글 단어로 할당해주고 나중에 한번에 제거\n",
        "    title.append(ttt)\n",
        "  return title"
      ],
      "metadata": {
        "id": "T-ogci94f3BV"
      },
      "execution_count": 173,
      "outputs": []
    },
    {
      "cell_type": "code",
      "source": [
        "tok4 = text(tok3)"
      ],
      "metadata": {
        "id": "PegwgxZOf88f"
      },
      "execution_count": 174,
      "outputs": []
    },
    {
      "cell_type": "code",
      "source": [
        "tokens = []\n",
        "for i in tok4:\n",
        "  res = i.split() # split() 공백기준으로 나눠주어 공백 제거\n",
        "  tokens.append(res)"
      ],
      "metadata": {
        "id": "CwvlOgmfghXu"
      },
      "execution_count": 175,
      "outputs": []
    },
    {
      "cell_type": "code",
      "source": [
        "## 한 단어만 있는 데이터 갯수('쓰레기' 포함)\n",
        "count=0\n",
        "for i in tokens:\n",
        "  if len(i) == 1:\n",
        "    count+=1\n",
        "count"
      ],
      "metadata": {
        "colab": {
          "base_uri": "https://localhost:8080/"
        },
        "id": "ADjFJEhFghVZ",
        "outputId": "2c16723b-9dfd-4198-a132-9c20f5c6649d"
      },
      "execution_count": 176,
      "outputs": [
        {
          "output_type": "execute_result",
          "data": {
            "text/plain": [
              "13108"
            ]
          },
          "metadata": {},
          "execution_count": 176
        }
      ]
    },
    {
      "cell_type": "code",
      "source": [
        "results = tokenToString(tokens)\n",
        "data2['new']=results\n",
        "data2"
      ],
      "metadata": {
        "colab": {
          "base_uri": "https://localhost:8080/",
          "height": 538
        },
        "id": "qckOl9aMghTE",
        "outputId": "288d9c53-410b-4105-9fa3-bc0f58e6cdf1"
      },
      "execution_count": 177,
      "outputs": [
        {
          "output_type": "stream",
          "name": "stderr",
          "text": [
            "100%|██████████| 265035/265035 [00:00<00:00, 1582374.91it/s]\n"
          ]
        },
        {
          "output_type": "execute_result",
          "data": {
            "text/plain": [
              "                                                title category sub_category  \\\n",
              "0                       국내산 100% 전라도 배추 김치 포기 김장김치 주문       김치         포기김치   \n",
              "1                                   피코크 조선호텔 포기김치 8kg       김치         포기김치   \n",
              "2                               대상 종가집 행복이온 포기김치 10kg       김치         포기김치   \n",
              "3                           대상 종가집 전라도 행복이온 포기김치 10kg       김치         포기김치   \n",
              "4                  선화동매운실비김치 맛있게 매운 대전 선화동 실비 김치 800g       김치         포기김치   \n",
              "...                                               ...      ...          ...   \n",
              "265030  먹템 매콤한 낙곱새 극락 밀키트(2-3인분) 4팩 캠핑음식 용밀 간편조리식품 키트      밀키트         찌개/국   \n",
              "265031            [연말축제 1+1] 청정원 호밍스 한우진곰탕 450g X 10개      밀키트         찌개/국   \n",
              "265032                  프레시지 프레시지 간편한 직화용기 꼬치어묵탕 818g      밀키트         찌개/국   \n",
              "265033                   아임셰프 마라 밀푀유나베 밀키트 쿠킹박스 (2인분)      밀키트         찌개/국   \n",
              "265034    팟쿡 어디서든 불/렌지 없이 조리 가능한 전골 나베4종 (비화식 캠핑 백패킹)      밀키트         찌개/국   \n",
              "\n",
              "        price                                  new  \n",
              "0       15900             국내산 전라도 배추 김치 포기 김장김치 주문  \n",
              "1       51040                        피코크 조선호텔 포기김치  \n",
              "2       34200                     대상 종가집 행복이온 포기김치  \n",
              "3       46840                 대상 종가집 전라도 행복이온 포기김치  \n",
              "4       11080        선화동매운실비김치 맛있게 매운 대전 선화동 실비 김치  \n",
              "...       ...                                  ...  \n",
              "265030  63370      먹템 매콤한 낙곱새 극락 캠핑음식 용밀 간편조리식품 키트  \n",
              "265031  25500                   연말축제 청정원 호밍스 한우진곰탕  \n",
              "265032  11860                  프레시지 간편한 직화용기 꼬치어묵탕  \n",
              "265033  16900               아임셰프 마라 밀푀유나베 밀키트 쿠킹박스  \n",
              "265034  18900  팟쿡 어디서든 불렌지 없이 조리 가능한 전골 비화식 캠핑 백패킹  \n",
              "\n",
              "[265035 rows x 5 columns]"
            ],
            "text/html": [
              "\n",
              "  <div id=\"df-0d59e86a-2ac9-4308-a571-2a7482a54963\">\n",
              "    <div class=\"colab-df-container\">\n",
              "      <div>\n",
              "<style scoped>\n",
              "    .dataframe tbody tr th:only-of-type {\n",
              "        vertical-align: middle;\n",
              "    }\n",
              "\n",
              "    .dataframe tbody tr th {\n",
              "        vertical-align: top;\n",
              "    }\n",
              "\n",
              "    .dataframe thead th {\n",
              "        text-align: right;\n",
              "    }\n",
              "</style>\n",
              "<table border=\"1\" class=\"dataframe\">\n",
              "  <thead>\n",
              "    <tr style=\"text-align: right;\">\n",
              "      <th></th>\n",
              "      <th>title</th>\n",
              "      <th>category</th>\n",
              "      <th>sub_category</th>\n",
              "      <th>price</th>\n",
              "      <th>new</th>\n",
              "    </tr>\n",
              "  </thead>\n",
              "  <tbody>\n",
              "    <tr>\n",
              "      <th>0</th>\n",
              "      <td>국내산 100% 전라도 배추 김치 포기 김장김치 주문</td>\n",
              "      <td>김치</td>\n",
              "      <td>포기김치</td>\n",
              "      <td>15900</td>\n",
              "      <td>국내산 전라도 배추 김치 포기 김장김치 주문</td>\n",
              "    </tr>\n",
              "    <tr>\n",
              "      <th>1</th>\n",
              "      <td>피코크 조선호텔 포기김치 8kg</td>\n",
              "      <td>김치</td>\n",
              "      <td>포기김치</td>\n",
              "      <td>51040</td>\n",
              "      <td>피코크 조선호텔 포기김치</td>\n",
              "    </tr>\n",
              "    <tr>\n",
              "      <th>2</th>\n",
              "      <td>대상 종가집 행복이온 포기김치 10kg</td>\n",
              "      <td>김치</td>\n",
              "      <td>포기김치</td>\n",
              "      <td>34200</td>\n",
              "      <td>대상 종가집 행복이온 포기김치</td>\n",
              "    </tr>\n",
              "    <tr>\n",
              "      <th>3</th>\n",
              "      <td>대상 종가집 전라도 행복이온 포기김치 10kg</td>\n",
              "      <td>김치</td>\n",
              "      <td>포기김치</td>\n",
              "      <td>46840</td>\n",
              "      <td>대상 종가집 전라도 행복이온 포기김치</td>\n",
              "    </tr>\n",
              "    <tr>\n",
              "      <th>4</th>\n",
              "      <td>선화동매운실비김치 맛있게 매운 대전 선화동 실비 김치 800g</td>\n",
              "      <td>김치</td>\n",
              "      <td>포기김치</td>\n",
              "      <td>11080</td>\n",
              "      <td>선화동매운실비김치 맛있게 매운 대전 선화동 실비 김치</td>\n",
              "    </tr>\n",
              "    <tr>\n",
              "      <th>...</th>\n",
              "      <td>...</td>\n",
              "      <td>...</td>\n",
              "      <td>...</td>\n",
              "      <td>...</td>\n",
              "      <td>...</td>\n",
              "    </tr>\n",
              "    <tr>\n",
              "      <th>265030</th>\n",
              "      <td>먹템 매콤한 낙곱새 극락 밀키트(2-3인분) 4팩 캠핑음식 용밀 간편조리식품 키트</td>\n",
              "      <td>밀키트</td>\n",
              "      <td>찌개/국</td>\n",
              "      <td>63370</td>\n",
              "      <td>먹템 매콤한 낙곱새 극락 캠핑음식 용밀 간편조리식품 키트</td>\n",
              "    </tr>\n",
              "    <tr>\n",
              "      <th>265031</th>\n",
              "      <td>[연말축제 1+1] 청정원 호밍스 한우진곰탕 450g X 10개</td>\n",
              "      <td>밀키트</td>\n",
              "      <td>찌개/국</td>\n",
              "      <td>25500</td>\n",
              "      <td>연말축제 청정원 호밍스 한우진곰탕</td>\n",
              "    </tr>\n",
              "    <tr>\n",
              "      <th>265032</th>\n",
              "      <td>프레시지 프레시지 간편한 직화용기 꼬치어묵탕 818g</td>\n",
              "      <td>밀키트</td>\n",
              "      <td>찌개/국</td>\n",
              "      <td>11860</td>\n",
              "      <td>프레시지 간편한 직화용기 꼬치어묵탕</td>\n",
              "    </tr>\n",
              "    <tr>\n",
              "      <th>265033</th>\n",
              "      <td>아임셰프 마라 밀푀유나베 밀키트 쿠킹박스 (2인분)</td>\n",
              "      <td>밀키트</td>\n",
              "      <td>찌개/국</td>\n",
              "      <td>16900</td>\n",
              "      <td>아임셰프 마라 밀푀유나베 밀키트 쿠킹박스</td>\n",
              "    </tr>\n",
              "    <tr>\n",
              "      <th>265034</th>\n",
              "      <td>팟쿡 어디서든 불/렌지 없이 조리 가능한 전골 나베4종 (비화식 캠핑 백패킹)</td>\n",
              "      <td>밀키트</td>\n",
              "      <td>찌개/국</td>\n",
              "      <td>18900</td>\n",
              "      <td>팟쿡 어디서든 불렌지 없이 조리 가능한 전골 비화식 캠핑 백패킹</td>\n",
              "    </tr>\n",
              "  </tbody>\n",
              "</table>\n",
              "<p>265035 rows × 5 columns</p>\n",
              "</div>\n",
              "      <button class=\"colab-df-convert\" onclick=\"convertToInteractive('df-0d59e86a-2ac9-4308-a571-2a7482a54963')\"\n",
              "              title=\"Convert this dataframe to an interactive table.\"\n",
              "              style=\"display:none;\">\n",
              "        \n",
              "  <svg xmlns=\"http://www.w3.org/2000/svg\" height=\"24px\"viewBox=\"0 0 24 24\"\n",
              "       width=\"24px\">\n",
              "    <path d=\"M0 0h24v24H0V0z\" fill=\"none\"/>\n",
              "    <path d=\"M18.56 5.44l.94 2.06.94-2.06 2.06-.94-2.06-.94-.94-2.06-.94 2.06-2.06.94zm-11 1L8.5 8.5l.94-2.06 2.06-.94-2.06-.94L8.5 2.5l-.94 2.06-2.06.94zm10 10l.94 2.06.94-2.06 2.06-.94-2.06-.94-.94-2.06-.94 2.06-2.06.94z\"/><path d=\"M17.41 7.96l-1.37-1.37c-.4-.4-.92-.59-1.43-.59-.52 0-1.04.2-1.43.59L10.3 9.45l-7.72 7.72c-.78.78-.78 2.05 0 2.83L4 21.41c.39.39.9.59 1.41.59.51 0 1.02-.2 1.41-.59l7.78-7.78 2.81-2.81c.8-.78.8-2.07 0-2.86zM5.41 20L4 18.59l7.72-7.72 1.47 1.35L5.41 20z\"/>\n",
              "  </svg>\n",
              "      </button>\n",
              "      \n",
              "  <style>\n",
              "    .colab-df-container {\n",
              "      display:flex;\n",
              "      flex-wrap:wrap;\n",
              "      gap: 12px;\n",
              "    }\n",
              "\n",
              "    .colab-df-convert {\n",
              "      background-color: #E8F0FE;\n",
              "      border: none;\n",
              "      border-radius: 50%;\n",
              "      cursor: pointer;\n",
              "      display: none;\n",
              "      fill: #1967D2;\n",
              "      height: 32px;\n",
              "      padding: 0 0 0 0;\n",
              "      width: 32px;\n",
              "    }\n",
              "\n",
              "    .colab-df-convert:hover {\n",
              "      background-color: #E2EBFA;\n",
              "      box-shadow: 0px 1px 2px rgba(60, 64, 67, 0.3), 0px 1px 3px 1px rgba(60, 64, 67, 0.15);\n",
              "      fill: #174EA6;\n",
              "    }\n",
              "\n",
              "    [theme=dark] .colab-df-convert {\n",
              "      background-color: #3B4455;\n",
              "      fill: #D2E3FC;\n",
              "    }\n",
              "\n",
              "    [theme=dark] .colab-df-convert:hover {\n",
              "      background-color: #434B5C;\n",
              "      box-shadow: 0px 1px 3px 1px rgba(0, 0, 0, 0.15);\n",
              "      filter: drop-shadow(0px 1px 2px rgba(0, 0, 0, 0.3));\n",
              "      fill: #FFFFFF;\n",
              "    }\n",
              "  </style>\n",
              "\n",
              "      <script>\n",
              "        const buttonEl =\n",
              "          document.querySelector('#df-0d59e86a-2ac9-4308-a571-2a7482a54963 button.colab-df-convert');\n",
              "        buttonEl.style.display =\n",
              "          google.colab.kernel.accessAllowed ? 'block' : 'none';\n",
              "\n",
              "        async function convertToInteractive(key) {\n",
              "          const element = document.querySelector('#df-0d59e86a-2ac9-4308-a571-2a7482a54963');\n",
              "          const dataTable =\n",
              "            await google.colab.kernel.invokeFunction('convertToInteractive',\n",
              "                                                     [key], {});\n",
              "          if (!dataTable) return;\n",
              "\n",
              "          const docLinkHtml = 'Like what you see? Visit the ' +\n",
              "            '<a target=\"_blank\" href=https://colab.research.google.com/notebooks/data_table.ipynb>data table notebook</a>'\n",
              "            + ' to learn more about interactive tables.';\n",
              "          element.innerHTML = '';\n",
              "          dataTable['output_type'] = 'display_data';\n",
              "          await google.colab.output.renderOutput(dataTable, element);\n",
              "          const docLink = document.createElement('div');\n",
              "          docLink.innerHTML = docLinkHtml;\n",
              "          element.appendChild(docLink);\n",
              "        }\n",
              "      </script>\n",
              "    </div>\n",
              "  </div>\n",
              "  "
            ]
          },
          "metadata": {},
          "execution_count": 177
        }
      ]
    },
    {
      "cell_type": "code",
      "source": [
        "# data2.loc[173282]"
      ],
      "metadata": {
        "id": "UcLOvwQoaYcn"
      },
      "execution_count": null,
      "outputs": []
    },
    {
      "cell_type": "code",
      "source": [
        "## 한단어만 있는 경우와 '쓰레기' 데이터 행 제거\n",
        "idx = -1\n",
        "for data in tqdm(data2['new']):\n",
        "  idx += 1\n",
        "  if len(data.split()) == 1:  \n",
        "    data2 = data2.drop([idx], axis = 0)\n",
        "data2.info()"
      ],
      "metadata": {
        "colab": {
          "base_uri": "https://localhost:8080/"
        },
        "id": "NQgB08_VghQ-",
        "outputId": "a619c3b2-82f8-46c1-95ff-6db76668d44b"
      },
      "execution_count": 180,
      "outputs": [
        {
          "output_type": "stream",
          "name": "stderr",
          "text": [
            "100%|██████████| 265035/265035 [07:24<00:00, 596.17it/s]"
          ]
        },
        {
          "output_type": "stream",
          "name": "stdout",
          "text": [
            "<class 'pandas.core.frame.DataFrame'>\n",
            "Int64Index: 251927 entries, 0 to 265034\n",
            "Data columns (total 5 columns):\n",
            " #   Column        Non-Null Count   Dtype \n",
            "---  ------        --------------   ----- \n",
            " 0   title         251927 non-null  object\n",
            " 1   category      251927 non-null  object\n",
            " 2   sub_category  251927 non-null  object\n",
            " 3   price         251927 non-null  int64 \n",
            " 4   new           251927 non-null  object\n",
            "dtypes: int64(1), object(4)\n",
            "memory usage: 11.5+ MB\n"
          ]
        },
        {
          "output_type": "stream",
          "name": "stderr",
          "text": [
            "\n"
          ]
        }
      ]
    },
    {
      "cell_type": "code",
      "source": [
        "data2[data2['new'] == '쓰레기'] # 모두 지워진 것을 확인"
      ],
      "metadata": {
        "colab": {
          "base_uri": "https://localhost:8080/",
          "height": 49
        },
        "id": "HYB27ao7l33b",
        "outputId": "4405f6cb-df24-4920-918e-c94378254789"
      },
      "execution_count": 181,
      "outputs": [
        {
          "output_type": "execute_result",
          "data": {
            "text/plain": [
              "Empty DataFrame\n",
              "Columns: [title, category, sub_category, price, new]\n",
              "Index: []"
            ],
            "text/html": [
              "\n",
              "  <div id=\"df-869e3d09-9b98-4fab-ab4d-51d44b1a4282\">\n",
              "    <div class=\"colab-df-container\">\n",
              "      <div>\n",
              "<style scoped>\n",
              "    .dataframe tbody tr th:only-of-type {\n",
              "        vertical-align: middle;\n",
              "    }\n",
              "\n",
              "    .dataframe tbody tr th {\n",
              "        vertical-align: top;\n",
              "    }\n",
              "\n",
              "    .dataframe thead th {\n",
              "        text-align: right;\n",
              "    }\n",
              "</style>\n",
              "<table border=\"1\" class=\"dataframe\">\n",
              "  <thead>\n",
              "    <tr style=\"text-align: right;\">\n",
              "      <th></th>\n",
              "      <th>title</th>\n",
              "      <th>category</th>\n",
              "      <th>sub_category</th>\n",
              "      <th>price</th>\n",
              "      <th>new</th>\n",
              "    </tr>\n",
              "  </thead>\n",
              "  <tbody>\n",
              "  </tbody>\n",
              "</table>\n",
              "</div>\n",
              "      <button class=\"colab-df-convert\" onclick=\"convertToInteractive('df-869e3d09-9b98-4fab-ab4d-51d44b1a4282')\"\n",
              "              title=\"Convert this dataframe to an interactive table.\"\n",
              "              style=\"display:none;\">\n",
              "        \n",
              "  <svg xmlns=\"http://www.w3.org/2000/svg\" height=\"24px\"viewBox=\"0 0 24 24\"\n",
              "       width=\"24px\">\n",
              "    <path d=\"M0 0h24v24H0V0z\" fill=\"none\"/>\n",
              "    <path d=\"M18.56 5.44l.94 2.06.94-2.06 2.06-.94-2.06-.94-.94-2.06-.94 2.06-2.06.94zm-11 1L8.5 8.5l.94-2.06 2.06-.94-2.06-.94L8.5 2.5l-.94 2.06-2.06.94zm10 10l.94 2.06.94-2.06 2.06-.94-2.06-.94-.94-2.06-.94 2.06-2.06.94z\"/><path d=\"M17.41 7.96l-1.37-1.37c-.4-.4-.92-.59-1.43-.59-.52 0-1.04.2-1.43.59L10.3 9.45l-7.72 7.72c-.78.78-.78 2.05 0 2.83L4 21.41c.39.39.9.59 1.41.59.51 0 1.02-.2 1.41-.59l7.78-7.78 2.81-2.81c.8-.78.8-2.07 0-2.86zM5.41 20L4 18.59l7.72-7.72 1.47 1.35L5.41 20z\"/>\n",
              "  </svg>\n",
              "      </button>\n",
              "      \n",
              "  <style>\n",
              "    .colab-df-container {\n",
              "      display:flex;\n",
              "      flex-wrap:wrap;\n",
              "      gap: 12px;\n",
              "    }\n",
              "\n",
              "    .colab-df-convert {\n",
              "      background-color: #E8F0FE;\n",
              "      border: none;\n",
              "      border-radius: 50%;\n",
              "      cursor: pointer;\n",
              "      display: none;\n",
              "      fill: #1967D2;\n",
              "      height: 32px;\n",
              "      padding: 0 0 0 0;\n",
              "      width: 32px;\n",
              "    }\n",
              "\n",
              "    .colab-df-convert:hover {\n",
              "      background-color: #E2EBFA;\n",
              "      box-shadow: 0px 1px 2px rgba(60, 64, 67, 0.3), 0px 1px 3px 1px rgba(60, 64, 67, 0.15);\n",
              "      fill: #174EA6;\n",
              "    }\n",
              "\n",
              "    [theme=dark] .colab-df-convert {\n",
              "      background-color: #3B4455;\n",
              "      fill: #D2E3FC;\n",
              "    }\n",
              "\n",
              "    [theme=dark] .colab-df-convert:hover {\n",
              "      background-color: #434B5C;\n",
              "      box-shadow: 0px 1px 3px 1px rgba(0, 0, 0, 0.15);\n",
              "      filter: drop-shadow(0px 1px 2px rgba(0, 0, 0, 0.3));\n",
              "      fill: #FFFFFF;\n",
              "    }\n",
              "  </style>\n",
              "\n",
              "      <script>\n",
              "        const buttonEl =\n",
              "          document.querySelector('#df-869e3d09-9b98-4fab-ab4d-51d44b1a4282 button.colab-df-convert');\n",
              "        buttonEl.style.display =\n",
              "          google.colab.kernel.accessAllowed ? 'block' : 'none';\n",
              "\n",
              "        async function convertToInteractive(key) {\n",
              "          const element = document.querySelector('#df-869e3d09-9b98-4fab-ab4d-51d44b1a4282');\n",
              "          const dataTable =\n",
              "            await google.colab.kernel.invokeFunction('convertToInteractive',\n",
              "                                                     [key], {});\n",
              "          if (!dataTable) return;\n",
              "\n",
              "          const docLinkHtml = 'Like what you see? Visit the ' +\n",
              "            '<a target=\"_blank\" href=https://colab.research.google.com/notebooks/data_table.ipynb>data table notebook</a>'\n",
              "            + ' to learn more about interactive tables.';\n",
              "          element.innerHTML = '';\n",
              "          dataTable['output_type'] = 'display_data';\n",
              "          await google.colab.output.renderOutput(dataTable, element);\n",
              "          const docLink = document.createElement('div');\n",
              "          docLink.innerHTML = docLinkHtml;\n",
              "          element.appendChild(docLink);\n",
              "        }\n",
              "      </script>\n",
              "    </div>\n",
              "  </div>\n",
              "  "
            ]
          },
          "metadata": {},
          "execution_count": 181
        }
      ]
    },
    {
      "cell_type": "code",
      "source": [
        "df = data2[['new', 'category', 'sub_category', 'price']]\n",
        "df.reset_index(drop=True, inplace=True)\n",
        "df = df.rename(columns={'new':'title'})\n",
        "df"
      ],
      "metadata": {
        "colab": {
          "base_uri": "https://localhost:8080/",
          "height": 424
        },
        "id": "qNeVCHh0mBRU",
        "outputId": "e8f85956-5da8-4c68-f710-1db8adacef9a"
      },
      "execution_count": 182,
      "outputs": [
        {
          "output_type": "execute_result",
          "data": {
            "text/plain": [
              "                                      title category sub_category  price\n",
              "0                  국내산 전라도 배추 김치 포기 김장김치 주문       김치         포기김치  15900\n",
              "1                             피코크 조선호텔 포기김치       김치         포기김치  51040\n",
              "2                          대상 종가집 행복이온 포기김치       김치         포기김치  34200\n",
              "3                      대상 종가집 전라도 행복이온 포기김치       김치         포기김치  46840\n",
              "4             선화동매운실비김치 맛있게 매운 대전 선화동 실비 김치       김치         포기김치  11080\n",
              "...                                     ...      ...          ...    ...\n",
              "251922      먹템 매콤한 낙곱새 극락 캠핑음식 용밀 간편조리식품 키트      밀키트         찌개/국  63370\n",
              "251923                   연말축제 청정원 호밍스 한우진곰탕      밀키트         찌개/국  25500\n",
              "251924                  프레시지 간편한 직화용기 꼬치어묵탕      밀키트         찌개/국  11860\n",
              "251925               아임셰프 마라 밀푀유나베 밀키트 쿠킹박스      밀키트         찌개/국  16900\n",
              "251926  팟쿡 어디서든 불렌지 없이 조리 가능한 전골 비화식 캠핑 백패킹      밀키트         찌개/국  18900\n",
              "\n",
              "[251927 rows x 4 columns]"
            ],
            "text/html": [
              "\n",
              "  <div id=\"df-53bc2d8d-0ee3-4553-a8ca-2d196aad1db3\">\n",
              "    <div class=\"colab-df-container\">\n",
              "      <div>\n",
              "<style scoped>\n",
              "    .dataframe tbody tr th:only-of-type {\n",
              "        vertical-align: middle;\n",
              "    }\n",
              "\n",
              "    .dataframe tbody tr th {\n",
              "        vertical-align: top;\n",
              "    }\n",
              "\n",
              "    .dataframe thead th {\n",
              "        text-align: right;\n",
              "    }\n",
              "</style>\n",
              "<table border=\"1\" class=\"dataframe\">\n",
              "  <thead>\n",
              "    <tr style=\"text-align: right;\">\n",
              "      <th></th>\n",
              "      <th>title</th>\n",
              "      <th>category</th>\n",
              "      <th>sub_category</th>\n",
              "      <th>price</th>\n",
              "    </tr>\n",
              "  </thead>\n",
              "  <tbody>\n",
              "    <tr>\n",
              "      <th>0</th>\n",
              "      <td>국내산 전라도 배추 김치 포기 김장김치 주문</td>\n",
              "      <td>김치</td>\n",
              "      <td>포기김치</td>\n",
              "      <td>15900</td>\n",
              "    </tr>\n",
              "    <tr>\n",
              "      <th>1</th>\n",
              "      <td>피코크 조선호텔 포기김치</td>\n",
              "      <td>김치</td>\n",
              "      <td>포기김치</td>\n",
              "      <td>51040</td>\n",
              "    </tr>\n",
              "    <tr>\n",
              "      <th>2</th>\n",
              "      <td>대상 종가집 행복이온 포기김치</td>\n",
              "      <td>김치</td>\n",
              "      <td>포기김치</td>\n",
              "      <td>34200</td>\n",
              "    </tr>\n",
              "    <tr>\n",
              "      <th>3</th>\n",
              "      <td>대상 종가집 전라도 행복이온 포기김치</td>\n",
              "      <td>김치</td>\n",
              "      <td>포기김치</td>\n",
              "      <td>46840</td>\n",
              "    </tr>\n",
              "    <tr>\n",
              "      <th>4</th>\n",
              "      <td>선화동매운실비김치 맛있게 매운 대전 선화동 실비 김치</td>\n",
              "      <td>김치</td>\n",
              "      <td>포기김치</td>\n",
              "      <td>11080</td>\n",
              "    </tr>\n",
              "    <tr>\n",
              "      <th>...</th>\n",
              "      <td>...</td>\n",
              "      <td>...</td>\n",
              "      <td>...</td>\n",
              "      <td>...</td>\n",
              "    </tr>\n",
              "    <tr>\n",
              "      <th>251922</th>\n",
              "      <td>먹템 매콤한 낙곱새 극락 캠핑음식 용밀 간편조리식품 키트</td>\n",
              "      <td>밀키트</td>\n",
              "      <td>찌개/국</td>\n",
              "      <td>63370</td>\n",
              "    </tr>\n",
              "    <tr>\n",
              "      <th>251923</th>\n",
              "      <td>연말축제 청정원 호밍스 한우진곰탕</td>\n",
              "      <td>밀키트</td>\n",
              "      <td>찌개/국</td>\n",
              "      <td>25500</td>\n",
              "    </tr>\n",
              "    <tr>\n",
              "      <th>251924</th>\n",
              "      <td>프레시지 간편한 직화용기 꼬치어묵탕</td>\n",
              "      <td>밀키트</td>\n",
              "      <td>찌개/국</td>\n",
              "      <td>11860</td>\n",
              "    </tr>\n",
              "    <tr>\n",
              "      <th>251925</th>\n",
              "      <td>아임셰프 마라 밀푀유나베 밀키트 쿠킹박스</td>\n",
              "      <td>밀키트</td>\n",
              "      <td>찌개/국</td>\n",
              "      <td>16900</td>\n",
              "    </tr>\n",
              "    <tr>\n",
              "      <th>251926</th>\n",
              "      <td>팟쿡 어디서든 불렌지 없이 조리 가능한 전골 비화식 캠핑 백패킹</td>\n",
              "      <td>밀키트</td>\n",
              "      <td>찌개/국</td>\n",
              "      <td>18900</td>\n",
              "    </tr>\n",
              "  </tbody>\n",
              "</table>\n",
              "<p>251927 rows × 4 columns</p>\n",
              "</div>\n",
              "      <button class=\"colab-df-convert\" onclick=\"convertToInteractive('df-53bc2d8d-0ee3-4553-a8ca-2d196aad1db3')\"\n",
              "              title=\"Convert this dataframe to an interactive table.\"\n",
              "              style=\"display:none;\">\n",
              "        \n",
              "  <svg xmlns=\"http://www.w3.org/2000/svg\" height=\"24px\"viewBox=\"0 0 24 24\"\n",
              "       width=\"24px\">\n",
              "    <path d=\"M0 0h24v24H0V0z\" fill=\"none\"/>\n",
              "    <path d=\"M18.56 5.44l.94 2.06.94-2.06 2.06-.94-2.06-.94-.94-2.06-.94 2.06-2.06.94zm-11 1L8.5 8.5l.94-2.06 2.06-.94-2.06-.94L8.5 2.5l-.94 2.06-2.06.94zm10 10l.94 2.06.94-2.06 2.06-.94-2.06-.94-.94-2.06-.94 2.06-2.06.94z\"/><path d=\"M17.41 7.96l-1.37-1.37c-.4-.4-.92-.59-1.43-.59-.52 0-1.04.2-1.43.59L10.3 9.45l-7.72 7.72c-.78.78-.78 2.05 0 2.83L4 21.41c.39.39.9.59 1.41.59.51 0 1.02-.2 1.41-.59l7.78-7.78 2.81-2.81c.8-.78.8-2.07 0-2.86zM5.41 20L4 18.59l7.72-7.72 1.47 1.35L5.41 20z\"/>\n",
              "  </svg>\n",
              "      </button>\n",
              "      \n",
              "  <style>\n",
              "    .colab-df-container {\n",
              "      display:flex;\n",
              "      flex-wrap:wrap;\n",
              "      gap: 12px;\n",
              "    }\n",
              "\n",
              "    .colab-df-convert {\n",
              "      background-color: #E8F0FE;\n",
              "      border: none;\n",
              "      border-radius: 50%;\n",
              "      cursor: pointer;\n",
              "      display: none;\n",
              "      fill: #1967D2;\n",
              "      height: 32px;\n",
              "      padding: 0 0 0 0;\n",
              "      width: 32px;\n",
              "    }\n",
              "\n",
              "    .colab-df-convert:hover {\n",
              "      background-color: #E2EBFA;\n",
              "      box-shadow: 0px 1px 2px rgba(60, 64, 67, 0.3), 0px 1px 3px 1px rgba(60, 64, 67, 0.15);\n",
              "      fill: #174EA6;\n",
              "    }\n",
              "\n",
              "    [theme=dark] .colab-df-convert {\n",
              "      background-color: #3B4455;\n",
              "      fill: #D2E3FC;\n",
              "    }\n",
              "\n",
              "    [theme=dark] .colab-df-convert:hover {\n",
              "      background-color: #434B5C;\n",
              "      box-shadow: 0px 1px 3px 1px rgba(0, 0, 0, 0.15);\n",
              "      filter: drop-shadow(0px 1px 2px rgba(0, 0, 0, 0.3));\n",
              "      fill: #FFFFFF;\n",
              "    }\n",
              "  </style>\n",
              "\n",
              "      <script>\n",
              "        const buttonEl =\n",
              "          document.querySelector('#df-53bc2d8d-0ee3-4553-a8ca-2d196aad1db3 button.colab-df-convert');\n",
              "        buttonEl.style.display =\n",
              "          google.colab.kernel.accessAllowed ? 'block' : 'none';\n",
              "\n",
              "        async function convertToInteractive(key) {\n",
              "          const element = document.querySelector('#df-53bc2d8d-0ee3-4553-a8ca-2d196aad1db3');\n",
              "          const dataTable =\n",
              "            await google.colab.kernel.invokeFunction('convertToInteractive',\n",
              "                                                     [key], {});\n",
              "          if (!dataTable) return;\n",
              "\n",
              "          const docLinkHtml = 'Like what you see? Visit the ' +\n",
              "            '<a target=\"_blank\" href=https://colab.research.google.com/notebooks/data_table.ipynb>data table notebook</a>'\n",
              "            + ' to learn more about interactive tables.';\n",
              "          element.innerHTML = '';\n",
              "          dataTable['output_type'] = 'display_data';\n",
              "          await google.colab.output.renderOutput(dataTable, element);\n",
              "          const docLink = document.createElement('div');\n",
              "          docLink.innerHTML = docLinkHtml;\n",
              "          element.appendChild(docLink);\n",
              "        }\n",
              "      </script>\n",
              "    </div>\n",
              "  </div>\n",
              "  "
            ]
          },
          "metadata": {},
          "execution_count": 182
        }
      ]
    },
    {
      "cell_type": "code",
      "source": [
        "## 여기 까지 eda한 데이터 저장\n",
        "df.to_csv('/content/drive/MyDrive/project3/super_final_ver1.csv', index=False)"
      ],
      "metadata": {
        "id": "CmFL9PqTghOY"
      },
      "execution_count": 128,
      "outputs": []
    },
    {
      "cell_type": "code",
      "source": [
        "## 토큰화 해주고 (Pororo 돌리기 위해)\n",
        "token = []\n",
        "for title in df['title']:\n",
        "  res = title.split()\n",
        "  token.append(res)"
      ],
      "metadata": {
        "id": "UtXZhnZ_ghMA"
      },
      "execution_count": null,
      "outputs": []
    },
    {
      "cell_type": "code",
      "source": [
        "## 카테고리와 서브카테고리를 합친 문장으로 Pororo 분류\n",
        "cats = df['category']+\" \"+df['sub_category']\n",
        "cat = cats.str.replace(\"/\",\" \")\n",
        "cat"
      ],
      "metadata": {
        "colab": {
          "base_uri": "https://localhost:8080/"
        },
        "id": "e9XJ8FkBCtSO",
        "outputId": "30bcfac1-159e-4c61-cd0f-4e6053df376b"
      },
      "execution_count": 184,
      "outputs": [
        {
          "output_type": "execute_result",
          "data": {
            "text/plain": [
              "0          김치 포기김치\n",
              "1          김치 포기김치\n",
              "2          김치 포기김치\n",
              "3          김치 포기김치\n",
              "4          김치 포기김치\n",
              "            ...   \n",
              "251922    밀키트 찌개 국\n",
              "251923    밀키트 찌개 국\n",
              "251924    밀키트 찌개 국\n",
              "251925    밀키트 찌개 국\n",
              "251926    밀키트 찌개 국\n",
              "Length: 251927, dtype: object"
            ]
          },
          "metadata": {},
          "execution_count": 184
        }
      ]
    },
    {
      "cell_type": "code",
      "source": [
        "# 토큰 EDA / 데이터저장\n",
        "titl_list = token_eda(cat, token)\n",
        "new = tokenToString(titl_list)\n",
        "eda = pd.DataFrame(zip(new))\n",
        "df['eda_title_2'] = eda[0]\n",
        "df.to_csv('/content/drive/MyDrive/project3/finish_retry.csv', index=False)"
      ],
      "metadata": {
        "id": "cHfA2vMKBJDn",
        "colab": {
          "base_uri": "https://localhost:8080/"
        },
        "outputId": "105a92a8-eccf-4e96-d6fe-99a372f9ed99"
      },
      "execution_count": 186,
      "outputs": [
        {
          "output_type": "stream",
          "name": "stderr",
          "text": [
            "100%|██████████| 251927/251927 [1:37:58<00:00, 42.86it/s]\n",
            "100%|██████████| 251927/251927 [00:00<00:00, 1567040.32it/s]\n"
          ]
        }
      ]
    },
    {
      "cell_type": "code",
      "source": [
        "df"
      ],
      "metadata": {
        "colab": {
          "base_uri": "https://localhost:8080/",
          "height": 468
        },
        "id": "ay85bL0zCtcG",
        "outputId": "7de8eb96-4bc2-40f1-bfa0-7ada313863e6"
      },
      "execution_count": 187,
      "outputs": [
        {
          "output_type": "execute_result",
          "data": {
            "text/plain": [
              "                                      title category sub_category  price  \\\n",
              "0                  국내산 전라도 배추 김치 포기 김장김치 주문       김치         포기김치  15900   \n",
              "1                             피코크 조선호텔 포기김치       김치         포기김치  51040   \n",
              "2                          대상 종가집 행복이온 포기김치       김치         포기김치  34200   \n",
              "3                      대상 종가집 전라도 행복이온 포기김치       김치         포기김치  46840   \n",
              "4             선화동매운실비김치 맛있게 매운 대전 선화동 실비 김치       김치         포기김치  11080   \n",
              "...                                     ...      ...          ...    ...   \n",
              "251922      먹템 매콤한 낙곱새 극락 캠핑음식 용밀 간편조리식품 키트      밀키트         찌개/국  63370   \n",
              "251923                   연말축제 청정원 호밍스 한우진곰탕      밀키트         찌개/국  25500   \n",
              "251924                  프레시지 간편한 직화용기 꼬치어묵탕      밀키트         찌개/국  11860   \n",
              "251925               아임셰프 마라 밀푀유나베 밀키트 쿠킹박스      밀키트         찌개/국  16900   \n",
              "251926  팟쿡 어디서든 불렌지 없이 조리 가능한 전골 비화식 캠핑 백패킹      밀키트         찌개/국  18900   \n",
              "\n",
              "                            eda_title_2  \n",
              "0                  국내산 배추 김치 포기 김장김치 주문  \n",
              "1                         피코크 조선호텔 포기김치  \n",
              "2                      대상 종가집 행복이온 포기김치  \n",
              "3                  대상 종가집 전라도 행복이온 포기김치  \n",
              "4            선화동매운실비김치 맛있게 매운 선화동 실비 김치  \n",
              "...                                 ...  \n",
              "251922      먹템 매콤한 극락 캠핑음식 용밀 간편조리식품 키트  \n",
              "251923               연말축제 청정원 호밍스 한우진곰탕  \n",
              "251924              프레시지 간편한 직화용기 꼬치어묵탕  \n",
              "251925           아임셰프 마라 밀푀유나베 밀키트 쿠킹박스  \n",
              "251926  팟쿡 어디서든 없이 조리 가능한 전골 비화식 캠핑 백패킹  \n",
              "\n",
              "[251927 rows x 5 columns]"
            ],
            "text/html": [
              "\n",
              "  <div id=\"df-4eb517d7-9281-41e6-bb33-21a45f62c431\">\n",
              "    <div class=\"colab-df-container\">\n",
              "      <div>\n",
              "<style scoped>\n",
              "    .dataframe tbody tr th:only-of-type {\n",
              "        vertical-align: middle;\n",
              "    }\n",
              "\n",
              "    .dataframe tbody tr th {\n",
              "        vertical-align: top;\n",
              "    }\n",
              "\n",
              "    .dataframe thead th {\n",
              "        text-align: right;\n",
              "    }\n",
              "</style>\n",
              "<table border=\"1\" class=\"dataframe\">\n",
              "  <thead>\n",
              "    <tr style=\"text-align: right;\">\n",
              "      <th></th>\n",
              "      <th>title</th>\n",
              "      <th>category</th>\n",
              "      <th>sub_category</th>\n",
              "      <th>price</th>\n",
              "      <th>eda_title_2</th>\n",
              "    </tr>\n",
              "  </thead>\n",
              "  <tbody>\n",
              "    <tr>\n",
              "      <th>0</th>\n",
              "      <td>국내산 전라도 배추 김치 포기 김장김치 주문</td>\n",
              "      <td>김치</td>\n",
              "      <td>포기김치</td>\n",
              "      <td>15900</td>\n",
              "      <td>국내산 배추 김치 포기 김장김치 주문</td>\n",
              "    </tr>\n",
              "    <tr>\n",
              "      <th>1</th>\n",
              "      <td>피코크 조선호텔 포기김치</td>\n",
              "      <td>김치</td>\n",
              "      <td>포기김치</td>\n",
              "      <td>51040</td>\n",
              "      <td>피코크 조선호텔 포기김치</td>\n",
              "    </tr>\n",
              "    <tr>\n",
              "      <th>2</th>\n",
              "      <td>대상 종가집 행복이온 포기김치</td>\n",
              "      <td>김치</td>\n",
              "      <td>포기김치</td>\n",
              "      <td>34200</td>\n",
              "      <td>대상 종가집 행복이온 포기김치</td>\n",
              "    </tr>\n",
              "    <tr>\n",
              "      <th>3</th>\n",
              "      <td>대상 종가집 전라도 행복이온 포기김치</td>\n",
              "      <td>김치</td>\n",
              "      <td>포기김치</td>\n",
              "      <td>46840</td>\n",
              "      <td>대상 종가집 전라도 행복이온 포기김치</td>\n",
              "    </tr>\n",
              "    <tr>\n",
              "      <th>4</th>\n",
              "      <td>선화동매운실비김치 맛있게 매운 대전 선화동 실비 김치</td>\n",
              "      <td>김치</td>\n",
              "      <td>포기김치</td>\n",
              "      <td>11080</td>\n",
              "      <td>선화동매운실비김치 맛있게 매운 선화동 실비 김치</td>\n",
              "    </tr>\n",
              "    <tr>\n",
              "      <th>...</th>\n",
              "      <td>...</td>\n",
              "      <td>...</td>\n",
              "      <td>...</td>\n",
              "      <td>...</td>\n",
              "      <td>...</td>\n",
              "    </tr>\n",
              "    <tr>\n",
              "      <th>251922</th>\n",
              "      <td>먹템 매콤한 낙곱새 극락 캠핑음식 용밀 간편조리식품 키트</td>\n",
              "      <td>밀키트</td>\n",
              "      <td>찌개/국</td>\n",
              "      <td>63370</td>\n",
              "      <td>먹템 매콤한 극락 캠핑음식 용밀 간편조리식품 키트</td>\n",
              "    </tr>\n",
              "    <tr>\n",
              "      <th>251923</th>\n",
              "      <td>연말축제 청정원 호밍스 한우진곰탕</td>\n",
              "      <td>밀키트</td>\n",
              "      <td>찌개/국</td>\n",
              "      <td>25500</td>\n",
              "      <td>연말축제 청정원 호밍스 한우진곰탕</td>\n",
              "    </tr>\n",
              "    <tr>\n",
              "      <th>251924</th>\n",
              "      <td>프레시지 간편한 직화용기 꼬치어묵탕</td>\n",
              "      <td>밀키트</td>\n",
              "      <td>찌개/국</td>\n",
              "      <td>11860</td>\n",
              "      <td>프레시지 간편한 직화용기 꼬치어묵탕</td>\n",
              "    </tr>\n",
              "    <tr>\n",
              "      <th>251925</th>\n",
              "      <td>아임셰프 마라 밀푀유나베 밀키트 쿠킹박스</td>\n",
              "      <td>밀키트</td>\n",
              "      <td>찌개/국</td>\n",
              "      <td>16900</td>\n",
              "      <td>아임셰프 마라 밀푀유나베 밀키트 쿠킹박스</td>\n",
              "    </tr>\n",
              "    <tr>\n",
              "      <th>251926</th>\n",
              "      <td>팟쿡 어디서든 불렌지 없이 조리 가능한 전골 비화식 캠핑 백패킹</td>\n",
              "      <td>밀키트</td>\n",
              "      <td>찌개/국</td>\n",
              "      <td>18900</td>\n",
              "      <td>팟쿡 어디서든 없이 조리 가능한 전골 비화식 캠핑 백패킹</td>\n",
              "    </tr>\n",
              "  </tbody>\n",
              "</table>\n",
              "<p>251927 rows × 5 columns</p>\n",
              "</div>\n",
              "      <button class=\"colab-df-convert\" onclick=\"convertToInteractive('df-4eb517d7-9281-41e6-bb33-21a45f62c431')\"\n",
              "              title=\"Convert this dataframe to an interactive table.\"\n",
              "              style=\"display:none;\">\n",
              "        \n",
              "  <svg xmlns=\"http://www.w3.org/2000/svg\" height=\"24px\"viewBox=\"0 0 24 24\"\n",
              "       width=\"24px\">\n",
              "    <path d=\"M0 0h24v24H0V0z\" fill=\"none\"/>\n",
              "    <path d=\"M18.56 5.44l.94 2.06.94-2.06 2.06-.94-2.06-.94-.94-2.06-.94 2.06-2.06.94zm-11 1L8.5 8.5l.94-2.06 2.06-.94-2.06-.94L8.5 2.5l-.94 2.06-2.06.94zm10 10l.94 2.06.94-2.06 2.06-.94-2.06-.94-.94-2.06-.94 2.06-2.06.94z\"/><path d=\"M17.41 7.96l-1.37-1.37c-.4-.4-.92-.59-1.43-.59-.52 0-1.04.2-1.43.59L10.3 9.45l-7.72 7.72c-.78.78-.78 2.05 0 2.83L4 21.41c.39.39.9.59 1.41.59.51 0 1.02-.2 1.41-.59l7.78-7.78 2.81-2.81c.8-.78.8-2.07 0-2.86zM5.41 20L4 18.59l7.72-7.72 1.47 1.35L5.41 20z\"/>\n",
              "  </svg>\n",
              "      </button>\n",
              "      \n",
              "  <style>\n",
              "    .colab-df-container {\n",
              "      display:flex;\n",
              "      flex-wrap:wrap;\n",
              "      gap: 12px;\n",
              "    }\n",
              "\n",
              "    .colab-df-convert {\n",
              "      background-color: #E8F0FE;\n",
              "      border: none;\n",
              "      border-radius: 50%;\n",
              "      cursor: pointer;\n",
              "      display: none;\n",
              "      fill: #1967D2;\n",
              "      height: 32px;\n",
              "      padding: 0 0 0 0;\n",
              "      width: 32px;\n",
              "    }\n",
              "\n",
              "    .colab-df-convert:hover {\n",
              "      background-color: #E2EBFA;\n",
              "      box-shadow: 0px 1px 2px rgba(60, 64, 67, 0.3), 0px 1px 3px 1px rgba(60, 64, 67, 0.15);\n",
              "      fill: #174EA6;\n",
              "    }\n",
              "\n",
              "    [theme=dark] .colab-df-convert {\n",
              "      background-color: #3B4455;\n",
              "      fill: #D2E3FC;\n",
              "    }\n",
              "\n",
              "    [theme=dark] .colab-df-convert:hover {\n",
              "      background-color: #434B5C;\n",
              "      box-shadow: 0px 1px 3px 1px rgba(0, 0, 0, 0.15);\n",
              "      filter: drop-shadow(0px 1px 2px rgba(0, 0, 0, 0.3));\n",
              "      fill: #FFFFFF;\n",
              "    }\n",
              "  </style>\n",
              "\n",
              "      <script>\n",
              "        const buttonEl =\n",
              "          document.querySelector('#df-4eb517d7-9281-41e6-bb33-21a45f62c431 button.colab-df-convert');\n",
              "        buttonEl.style.display =\n",
              "          google.colab.kernel.accessAllowed ? 'block' : 'none';\n",
              "\n",
              "        async function convertToInteractive(key) {\n",
              "          const element = document.querySelector('#df-4eb517d7-9281-41e6-bb33-21a45f62c431');\n",
              "          const dataTable =\n",
              "            await google.colab.kernel.invokeFunction('convertToInteractive',\n",
              "                                                     [key], {});\n",
              "          if (!dataTable) return;\n",
              "\n",
              "          const docLinkHtml = 'Like what you see? Visit the ' +\n",
              "            '<a target=\"_blank\" href=https://colab.research.google.com/notebooks/data_table.ipynb>data table notebook</a>'\n",
              "            + ' to learn more about interactive tables.';\n",
              "          element.innerHTML = '';\n",
              "          dataTable['output_type'] = 'display_data';\n",
              "          await google.colab.output.renderOutput(dataTable, element);\n",
              "          const docLink = document.createElement('div');\n",
              "          docLink.innerHTML = docLinkHtml;\n",
              "          element.appendChild(docLink);\n",
              "        }\n",
              "      </script>\n",
              "    </div>\n",
              "  </div>\n",
              "  "
            ]
          },
          "metadata": {},
          "execution_count": 187
        }
      ]
    },
    {
      "cell_type": "code",
      "source": [
        "df2 = df[['eda_title_2', 'category', 'sub_category', 'price']]\n",
        "df2"
      ],
      "metadata": {
        "colab": {
          "base_uri": "https://localhost:8080/",
          "height": 424
        },
        "id": "oBJK-2lp8SzR",
        "outputId": "ba0e2c55-8309-41a7-bab0-7e236e0f1e69"
      },
      "execution_count": 188,
      "outputs": [
        {
          "output_type": "execute_result",
          "data": {
            "text/plain": [
              "                            eda_title_2 category sub_category  price\n",
              "0                  국내산 배추 김치 포기 김장김치 주문       김치         포기김치  15900\n",
              "1                         피코크 조선호텔 포기김치       김치         포기김치  51040\n",
              "2                      대상 종가집 행복이온 포기김치       김치         포기김치  34200\n",
              "3                  대상 종가집 전라도 행복이온 포기김치       김치         포기김치  46840\n",
              "4            선화동매운실비김치 맛있게 매운 선화동 실비 김치       김치         포기김치  11080\n",
              "...                                 ...      ...          ...    ...\n",
              "251922      먹템 매콤한 극락 캠핑음식 용밀 간편조리식품 키트      밀키트         찌개/국  63370\n",
              "251923               연말축제 청정원 호밍스 한우진곰탕      밀키트         찌개/국  25500\n",
              "251924              프레시지 간편한 직화용기 꼬치어묵탕      밀키트         찌개/국  11860\n",
              "251925           아임셰프 마라 밀푀유나베 밀키트 쿠킹박스      밀키트         찌개/국  16900\n",
              "251926  팟쿡 어디서든 없이 조리 가능한 전골 비화식 캠핑 백패킹      밀키트         찌개/국  18900\n",
              "\n",
              "[251927 rows x 4 columns]"
            ],
            "text/html": [
              "\n",
              "  <div id=\"df-7ad0c279-5006-41f9-adc9-edb8c7e5c7fa\">\n",
              "    <div class=\"colab-df-container\">\n",
              "      <div>\n",
              "<style scoped>\n",
              "    .dataframe tbody tr th:only-of-type {\n",
              "        vertical-align: middle;\n",
              "    }\n",
              "\n",
              "    .dataframe tbody tr th {\n",
              "        vertical-align: top;\n",
              "    }\n",
              "\n",
              "    .dataframe thead th {\n",
              "        text-align: right;\n",
              "    }\n",
              "</style>\n",
              "<table border=\"1\" class=\"dataframe\">\n",
              "  <thead>\n",
              "    <tr style=\"text-align: right;\">\n",
              "      <th></th>\n",
              "      <th>eda_title_2</th>\n",
              "      <th>category</th>\n",
              "      <th>sub_category</th>\n",
              "      <th>price</th>\n",
              "    </tr>\n",
              "  </thead>\n",
              "  <tbody>\n",
              "    <tr>\n",
              "      <th>0</th>\n",
              "      <td>국내산 배추 김치 포기 김장김치 주문</td>\n",
              "      <td>김치</td>\n",
              "      <td>포기김치</td>\n",
              "      <td>15900</td>\n",
              "    </tr>\n",
              "    <tr>\n",
              "      <th>1</th>\n",
              "      <td>피코크 조선호텔 포기김치</td>\n",
              "      <td>김치</td>\n",
              "      <td>포기김치</td>\n",
              "      <td>51040</td>\n",
              "    </tr>\n",
              "    <tr>\n",
              "      <th>2</th>\n",
              "      <td>대상 종가집 행복이온 포기김치</td>\n",
              "      <td>김치</td>\n",
              "      <td>포기김치</td>\n",
              "      <td>34200</td>\n",
              "    </tr>\n",
              "    <tr>\n",
              "      <th>3</th>\n",
              "      <td>대상 종가집 전라도 행복이온 포기김치</td>\n",
              "      <td>김치</td>\n",
              "      <td>포기김치</td>\n",
              "      <td>46840</td>\n",
              "    </tr>\n",
              "    <tr>\n",
              "      <th>4</th>\n",
              "      <td>선화동매운실비김치 맛있게 매운 선화동 실비 김치</td>\n",
              "      <td>김치</td>\n",
              "      <td>포기김치</td>\n",
              "      <td>11080</td>\n",
              "    </tr>\n",
              "    <tr>\n",
              "      <th>...</th>\n",
              "      <td>...</td>\n",
              "      <td>...</td>\n",
              "      <td>...</td>\n",
              "      <td>...</td>\n",
              "    </tr>\n",
              "    <tr>\n",
              "      <th>251922</th>\n",
              "      <td>먹템 매콤한 극락 캠핑음식 용밀 간편조리식품 키트</td>\n",
              "      <td>밀키트</td>\n",
              "      <td>찌개/국</td>\n",
              "      <td>63370</td>\n",
              "    </tr>\n",
              "    <tr>\n",
              "      <th>251923</th>\n",
              "      <td>연말축제 청정원 호밍스 한우진곰탕</td>\n",
              "      <td>밀키트</td>\n",
              "      <td>찌개/국</td>\n",
              "      <td>25500</td>\n",
              "    </tr>\n",
              "    <tr>\n",
              "      <th>251924</th>\n",
              "      <td>프레시지 간편한 직화용기 꼬치어묵탕</td>\n",
              "      <td>밀키트</td>\n",
              "      <td>찌개/국</td>\n",
              "      <td>11860</td>\n",
              "    </tr>\n",
              "    <tr>\n",
              "      <th>251925</th>\n",
              "      <td>아임셰프 마라 밀푀유나베 밀키트 쿠킹박스</td>\n",
              "      <td>밀키트</td>\n",
              "      <td>찌개/국</td>\n",
              "      <td>16900</td>\n",
              "    </tr>\n",
              "    <tr>\n",
              "      <th>251926</th>\n",
              "      <td>팟쿡 어디서든 없이 조리 가능한 전골 비화식 캠핑 백패킹</td>\n",
              "      <td>밀키트</td>\n",
              "      <td>찌개/국</td>\n",
              "      <td>18900</td>\n",
              "    </tr>\n",
              "  </tbody>\n",
              "</table>\n",
              "<p>251927 rows × 4 columns</p>\n",
              "</div>\n",
              "      <button class=\"colab-df-convert\" onclick=\"convertToInteractive('df-7ad0c279-5006-41f9-adc9-edb8c7e5c7fa')\"\n",
              "              title=\"Convert this dataframe to an interactive table.\"\n",
              "              style=\"display:none;\">\n",
              "        \n",
              "  <svg xmlns=\"http://www.w3.org/2000/svg\" height=\"24px\"viewBox=\"0 0 24 24\"\n",
              "       width=\"24px\">\n",
              "    <path d=\"M0 0h24v24H0V0z\" fill=\"none\"/>\n",
              "    <path d=\"M18.56 5.44l.94 2.06.94-2.06 2.06-.94-2.06-.94-.94-2.06-.94 2.06-2.06.94zm-11 1L8.5 8.5l.94-2.06 2.06-.94-2.06-.94L8.5 2.5l-.94 2.06-2.06.94zm10 10l.94 2.06.94-2.06 2.06-.94-2.06-.94-.94-2.06-.94 2.06-2.06.94z\"/><path d=\"M17.41 7.96l-1.37-1.37c-.4-.4-.92-.59-1.43-.59-.52 0-1.04.2-1.43.59L10.3 9.45l-7.72 7.72c-.78.78-.78 2.05 0 2.83L4 21.41c.39.39.9.59 1.41.59.51 0 1.02-.2 1.41-.59l7.78-7.78 2.81-2.81c.8-.78.8-2.07 0-2.86zM5.41 20L4 18.59l7.72-7.72 1.47 1.35L5.41 20z\"/>\n",
              "  </svg>\n",
              "      </button>\n",
              "      \n",
              "  <style>\n",
              "    .colab-df-container {\n",
              "      display:flex;\n",
              "      flex-wrap:wrap;\n",
              "      gap: 12px;\n",
              "    }\n",
              "\n",
              "    .colab-df-convert {\n",
              "      background-color: #E8F0FE;\n",
              "      border: none;\n",
              "      border-radius: 50%;\n",
              "      cursor: pointer;\n",
              "      display: none;\n",
              "      fill: #1967D2;\n",
              "      height: 32px;\n",
              "      padding: 0 0 0 0;\n",
              "      width: 32px;\n",
              "    }\n",
              "\n",
              "    .colab-df-convert:hover {\n",
              "      background-color: #E2EBFA;\n",
              "      box-shadow: 0px 1px 2px rgba(60, 64, 67, 0.3), 0px 1px 3px 1px rgba(60, 64, 67, 0.15);\n",
              "      fill: #174EA6;\n",
              "    }\n",
              "\n",
              "    [theme=dark] .colab-df-convert {\n",
              "      background-color: #3B4455;\n",
              "      fill: #D2E3FC;\n",
              "    }\n",
              "\n",
              "    [theme=dark] .colab-df-convert:hover {\n",
              "      background-color: #434B5C;\n",
              "      box-shadow: 0px 1px 3px 1px rgba(0, 0, 0, 0.15);\n",
              "      filter: drop-shadow(0px 1px 2px rgba(0, 0, 0, 0.3));\n",
              "      fill: #FFFFFF;\n",
              "    }\n",
              "  </style>\n",
              "\n",
              "      <script>\n",
              "        const buttonEl =\n",
              "          document.querySelector('#df-7ad0c279-5006-41f9-adc9-edb8c7e5c7fa button.colab-df-convert');\n",
              "        buttonEl.style.display =\n",
              "          google.colab.kernel.accessAllowed ? 'block' : 'none';\n",
              "\n",
              "        async function convertToInteractive(key) {\n",
              "          const element = document.querySelector('#df-7ad0c279-5006-41f9-adc9-edb8c7e5c7fa');\n",
              "          const dataTable =\n",
              "            await google.colab.kernel.invokeFunction('convertToInteractive',\n",
              "                                                     [key], {});\n",
              "          if (!dataTable) return;\n",
              "\n",
              "          const docLinkHtml = 'Like what you see? Visit the ' +\n",
              "            '<a target=\"_blank\" href=https://colab.research.google.com/notebooks/data_table.ipynb>data table notebook</a>'\n",
              "            + ' to learn more about interactive tables.';\n",
              "          element.innerHTML = '';\n",
              "          dataTable['output_type'] = 'display_data';\n",
              "          await google.colab.output.renderOutput(dataTable, element);\n",
              "          const docLink = document.createElement('div');\n",
              "          docLink.innerHTML = docLinkHtml;\n",
              "          element.appendChild(docLink);\n",
              "        }\n",
              "      </script>\n",
              "    </div>\n",
              "  </div>\n",
              "  "
            ]
          },
          "metadata": {},
          "execution_count": 188
        }
      ]
    },
    {
      "cell_type": "code",
      "source": [
        "df2['category'].unique()"
      ],
      "metadata": {
        "colab": {
          "base_uri": "https://localhost:8080/"
        },
        "id": "c1z_6DJa9HG3",
        "outputId": "bb45089c-150e-4244-ccca-c5cb091093b5"
      },
      "execution_count": 189,
      "outputs": [
        {
          "output_type": "execute_result",
          "data": {
            "text/plain": [
              "array(['김치', '반찬', '수산물', '장류', '농산물', '축산물', '건강식품', '통조림/캔', '음료',\n",
              "       '냉동/간편조리식품', '조미료', '라면/면류', '소스/드레싱', '과자/베이커리', '오일/가루/향신료',\n",
              "       '다이어트식품', '밀키트', '잼/시럽', '유가공품', '전통주', '커피/차류', '간편조리식품',\n",
              "       '과자/떡/베이커리', '생수/음료'], dtype=object)"
            ]
          },
          "metadata": {},
          "execution_count": 189
        }
      ]
    },
    {
      "cell_type": "markdown",
      "source": [
        "## 카테고리 조정 및 저장\n",
        "\n",
        "1. 음료 + 생수/음료 >> 생수/음료\n",
        "2. 과자/베이커리 + 과자/떡/베이커리 >> 과자/떡/베이커리\n",
        "3. 냉동/간편조리식품 + 간편조리식품 >> 냉동/간편조리식품"
      ],
      "metadata": {
        "id": "WcCrt9y_9QbR"
      }
    },
    {
      "cell_type": "code",
      "source": [
        "def jojung(df, before, after):\n",
        "  for idx, value in enumerate(before):\n",
        "    df.loc[df['category'] == value,'category'] = after[idx] \n",
        "  return df"
      ],
      "metadata": {
        "id": "ZLTCiB-h9P91"
      },
      "execution_count": 190,
      "outputs": []
    },
    {
      "cell_type": "code",
      "source": [
        "before = ['음료', '과자/베이커리', '간편조리식품']\n",
        "after = ['생수/음료', '과자/떡/베이커리', '냉동/간편조리식품']\n",
        "final = jojung(df2, before, after)"
      ],
      "metadata": {
        "id": "I_FpcM8q9_bB"
      },
      "execution_count": null,
      "outputs": []
    },
    {
      "cell_type": "code",
      "source": [
        "final = final.rename(columns={'eda_title_2':'title'})"
      ],
      "metadata": {
        "id": "5nGbp-VG-9VF"
      },
      "execution_count": 199,
      "outputs": []
    },
    {
      "cell_type": "code",
      "source": [
        "final['category'].unique()"
      ],
      "metadata": {
        "colab": {
          "base_uri": "https://localhost:8080/"
        },
        "id": "BvmT1UeK-2xT",
        "outputId": "e5eb3f50-e6ea-4a47-b1a7-65c2b2bd4e73"
      },
      "execution_count": 193,
      "outputs": [
        {
          "output_type": "execute_result",
          "data": {
            "text/plain": [
              "array(['김치', '반찬', '수산물', '장류', '농산물', '축산물', '건강식품', '통조림/캔', '생수/음료',\n",
              "       '냉동/간편조리식품', '조미료', '라면/면류', '소스/드레싱', '과자/떡/베이커리', '오일/가루/향신료',\n",
              "       '다이어트식품', '밀키트', '잼/시럽', '유가공품', '전통주', '커피/차류'], dtype=object)"
            ]
          },
          "metadata": {},
          "execution_count": 193
        }
      ]
    },
    {
      "cell_type": "code",
      "source": [
        "final.isnull().sum()"
      ],
      "metadata": {
        "colab": {
          "base_uri": "https://localhost:8080/"
        },
        "id": "XfPrvtV4_VA9",
        "outputId": "5d8b5ba9-74a8-4ad6-d3e9-5c3a2cb8694e"
      },
      "execution_count": 200,
      "outputs": [
        {
          "output_type": "execute_result",
          "data": {
            "text/plain": [
              "title           0\n",
              "category        0\n",
              "sub_category    0\n",
              "price           0\n",
              "dtype: int64"
            ]
          },
          "metadata": {},
          "execution_count": 200
        }
      ]
    },
    {
      "cell_type": "code",
      "source": [
        "final.drop_duplicates(['title'], inplace=True)\n",
        "final.reset_index(drop=True, inplace=True)\n",
        "final"
      ],
      "metadata": {
        "colab": {
          "base_uri": "https://localhost:8080/",
          "height": 424
        },
        "id": "V6UeIcD3_XDL",
        "outputId": "51d2bf20-d672-47b7-c684-593ee89d9e2a"
      },
      "execution_count": 201,
      "outputs": [
        {
          "output_type": "execute_result",
          "data": {
            "text/plain": [
              "                                  title category sub_category  price\n",
              "0                  국내산 배추 김치 포기 김장김치 주문       김치         포기김치  15900\n",
              "1                         피코크 조선호텔 포기김치       김치         포기김치  51040\n",
              "2                      대상 종가집 행복이온 포기김치       김치         포기김치  34200\n",
              "3                  대상 종가집 전라도 행복이온 포기김치       김치         포기김치  46840\n",
              "4            선화동매운실비김치 맛있게 매운 선화동 실비 김치       김치         포기김치  11080\n",
              "...                                 ...      ...          ...    ...\n",
              "205375               청정원 호밍스 사골 시래기 된장국      밀키트         찌개/국  30400\n",
              "205376      먹템 매콤한 극락 캠핑음식 용밀 간편조리식품 키트      밀키트         찌개/국  63370\n",
              "205377               연말축제 청정원 호밍스 한우진곰탕      밀키트         찌개/국  25500\n",
              "205378              프레시지 간편한 직화용기 꼬치어묵탕      밀키트         찌개/국  11860\n",
              "205379  팟쿡 어디서든 없이 조리 가능한 전골 비화식 캠핑 백패킹      밀키트         찌개/국  18900\n",
              "\n",
              "[205380 rows x 4 columns]"
            ],
            "text/html": [
              "\n",
              "  <div id=\"df-ed6351b7-3f6d-46ee-b0f6-6e4e581ee43a\">\n",
              "    <div class=\"colab-df-container\">\n",
              "      <div>\n",
              "<style scoped>\n",
              "    .dataframe tbody tr th:only-of-type {\n",
              "        vertical-align: middle;\n",
              "    }\n",
              "\n",
              "    .dataframe tbody tr th {\n",
              "        vertical-align: top;\n",
              "    }\n",
              "\n",
              "    .dataframe thead th {\n",
              "        text-align: right;\n",
              "    }\n",
              "</style>\n",
              "<table border=\"1\" class=\"dataframe\">\n",
              "  <thead>\n",
              "    <tr style=\"text-align: right;\">\n",
              "      <th></th>\n",
              "      <th>title</th>\n",
              "      <th>category</th>\n",
              "      <th>sub_category</th>\n",
              "      <th>price</th>\n",
              "    </tr>\n",
              "  </thead>\n",
              "  <tbody>\n",
              "    <tr>\n",
              "      <th>0</th>\n",
              "      <td>국내산 배추 김치 포기 김장김치 주문</td>\n",
              "      <td>김치</td>\n",
              "      <td>포기김치</td>\n",
              "      <td>15900</td>\n",
              "    </tr>\n",
              "    <tr>\n",
              "      <th>1</th>\n",
              "      <td>피코크 조선호텔 포기김치</td>\n",
              "      <td>김치</td>\n",
              "      <td>포기김치</td>\n",
              "      <td>51040</td>\n",
              "    </tr>\n",
              "    <tr>\n",
              "      <th>2</th>\n",
              "      <td>대상 종가집 행복이온 포기김치</td>\n",
              "      <td>김치</td>\n",
              "      <td>포기김치</td>\n",
              "      <td>34200</td>\n",
              "    </tr>\n",
              "    <tr>\n",
              "      <th>3</th>\n",
              "      <td>대상 종가집 전라도 행복이온 포기김치</td>\n",
              "      <td>김치</td>\n",
              "      <td>포기김치</td>\n",
              "      <td>46840</td>\n",
              "    </tr>\n",
              "    <tr>\n",
              "      <th>4</th>\n",
              "      <td>선화동매운실비김치 맛있게 매운 선화동 실비 김치</td>\n",
              "      <td>김치</td>\n",
              "      <td>포기김치</td>\n",
              "      <td>11080</td>\n",
              "    </tr>\n",
              "    <tr>\n",
              "      <th>...</th>\n",
              "      <td>...</td>\n",
              "      <td>...</td>\n",
              "      <td>...</td>\n",
              "      <td>...</td>\n",
              "    </tr>\n",
              "    <tr>\n",
              "      <th>205375</th>\n",
              "      <td>청정원 호밍스 사골 시래기 된장국</td>\n",
              "      <td>밀키트</td>\n",
              "      <td>찌개/국</td>\n",
              "      <td>30400</td>\n",
              "    </tr>\n",
              "    <tr>\n",
              "      <th>205376</th>\n",
              "      <td>먹템 매콤한 극락 캠핑음식 용밀 간편조리식품 키트</td>\n",
              "      <td>밀키트</td>\n",
              "      <td>찌개/국</td>\n",
              "      <td>63370</td>\n",
              "    </tr>\n",
              "    <tr>\n",
              "      <th>205377</th>\n",
              "      <td>연말축제 청정원 호밍스 한우진곰탕</td>\n",
              "      <td>밀키트</td>\n",
              "      <td>찌개/국</td>\n",
              "      <td>25500</td>\n",
              "    </tr>\n",
              "    <tr>\n",
              "      <th>205378</th>\n",
              "      <td>프레시지 간편한 직화용기 꼬치어묵탕</td>\n",
              "      <td>밀키트</td>\n",
              "      <td>찌개/국</td>\n",
              "      <td>11860</td>\n",
              "    </tr>\n",
              "    <tr>\n",
              "      <th>205379</th>\n",
              "      <td>팟쿡 어디서든 없이 조리 가능한 전골 비화식 캠핑 백패킹</td>\n",
              "      <td>밀키트</td>\n",
              "      <td>찌개/국</td>\n",
              "      <td>18900</td>\n",
              "    </tr>\n",
              "  </tbody>\n",
              "</table>\n",
              "<p>205380 rows × 4 columns</p>\n",
              "</div>\n",
              "      <button class=\"colab-df-convert\" onclick=\"convertToInteractive('df-ed6351b7-3f6d-46ee-b0f6-6e4e581ee43a')\"\n",
              "              title=\"Convert this dataframe to an interactive table.\"\n",
              "              style=\"display:none;\">\n",
              "        \n",
              "  <svg xmlns=\"http://www.w3.org/2000/svg\" height=\"24px\"viewBox=\"0 0 24 24\"\n",
              "       width=\"24px\">\n",
              "    <path d=\"M0 0h24v24H0V0z\" fill=\"none\"/>\n",
              "    <path d=\"M18.56 5.44l.94 2.06.94-2.06 2.06-.94-2.06-.94-.94-2.06-.94 2.06-2.06.94zm-11 1L8.5 8.5l.94-2.06 2.06-.94-2.06-.94L8.5 2.5l-.94 2.06-2.06.94zm10 10l.94 2.06.94-2.06 2.06-.94-2.06-.94-.94-2.06-.94 2.06-2.06.94z\"/><path d=\"M17.41 7.96l-1.37-1.37c-.4-.4-.92-.59-1.43-.59-.52 0-1.04.2-1.43.59L10.3 9.45l-7.72 7.72c-.78.78-.78 2.05 0 2.83L4 21.41c.39.39.9.59 1.41.59.51 0 1.02-.2 1.41-.59l7.78-7.78 2.81-2.81c.8-.78.8-2.07 0-2.86zM5.41 20L4 18.59l7.72-7.72 1.47 1.35L5.41 20z\"/>\n",
              "  </svg>\n",
              "      </button>\n",
              "      \n",
              "  <style>\n",
              "    .colab-df-container {\n",
              "      display:flex;\n",
              "      flex-wrap:wrap;\n",
              "      gap: 12px;\n",
              "    }\n",
              "\n",
              "    .colab-df-convert {\n",
              "      background-color: #E8F0FE;\n",
              "      border: none;\n",
              "      border-radius: 50%;\n",
              "      cursor: pointer;\n",
              "      display: none;\n",
              "      fill: #1967D2;\n",
              "      height: 32px;\n",
              "      padding: 0 0 0 0;\n",
              "      width: 32px;\n",
              "    }\n",
              "\n",
              "    .colab-df-convert:hover {\n",
              "      background-color: #E2EBFA;\n",
              "      box-shadow: 0px 1px 2px rgba(60, 64, 67, 0.3), 0px 1px 3px 1px rgba(60, 64, 67, 0.15);\n",
              "      fill: #174EA6;\n",
              "    }\n",
              "\n",
              "    [theme=dark] .colab-df-convert {\n",
              "      background-color: #3B4455;\n",
              "      fill: #D2E3FC;\n",
              "    }\n",
              "\n",
              "    [theme=dark] .colab-df-convert:hover {\n",
              "      background-color: #434B5C;\n",
              "      box-shadow: 0px 1px 3px 1px rgba(0, 0, 0, 0.15);\n",
              "      filter: drop-shadow(0px 1px 2px rgba(0, 0, 0, 0.3));\n",
              "      fill: #FFFFFF;\n",
              "    }\n",
              "  </style>\n",
              "\n",
              "      <script>\n",
              "        const buttonEl =\n",
              "          document.querySelector('#df-ed6351b7-3f6d-46ee-b0f6-6e4e581ee43a button.colab-df-convert');\n",
              "        buttonEl.style.display =\n",
              "          google.colab.kernel.accessAllowed ? 'block' : 'none';\n",
              "\n",
              "        async function convertToInteractive(key) {\n",
              "          const element = document.querySelector('#df-ed6351b7-3f6d-46ee-b0f6-6e4e581ee43a');\n",
              "          const dataTable =\n",
              "            await google.colab.kernel.invokeFunction('convertToInteractive',\n",
              "                                                     [key], {});\n",
              "          if (!dataTable) return;\n",
              "\n",
              "          const docLinkHtml = 'Like what you see? Visit the ' +\n",
              "            '<a target=\"_blank\" href=https://colab.research.google.com/notebooks/data_table.ipynb>data table notebook</a>'\n",
              "            + ' to learn more about interactive tables.';\n",
              "          element.innerHTML = '';\n",
              "          dataTable['output_type'] = 'display_data';\n",
              "          await google.colab.output.renderOutput(dataTable, element);\n",
              "          const docLink = document.createElement('div');\n",
              "          docLink.innerHTML = docLinkHtml;\n",
              "          element.appendChild(docLink);\n",
              "        }\n",
              "      </script>\n",
              "    </div>\n",
              "  </div>\n",
              "  "
            ]
          },
          "metadata": {},
          "execution_count": 201
        }
      ]
    },
    {
      "cell_type": "code",
      "source": [
        "final.duplicated().sum()"
      ],
      "metadata": {
        "colab": {
          "base_uri": "https://localhost:8080/"
        },
        "id": "6qxwRl3g_l9P",
        "outputId": "3b69832d-36a8-480b-adae-c41f836f933a"
      },
      "execution_count": 202,
      "outputs": [
        {
          "output_type": "execute_result",
          "data": {
            "text/plain": [
              "0"
            ]
          },
          "metadata": {},
          "execution_count": 202
        }
      ]
    },
    {
      "cell_type": "code",
      "source": [
        "final.to_csv('/content/drive/MyDrive/project3/real_finish.csv', index=False)"
      ],
      "metadata": {
        "id": "pVeUqERm_Lpx"
      },
      "execution_count": 203,
      "outputs": []
    },
    {
      "cell_type": "code",
      "source": [
        "final.info()"
      ],
      "metadata": {
        "colab": {
          "base_uri": "https://localhost:8080/"
        },
        "id": "eDfRIx-eBLxe",
        "outputId": "a0101b6c-914e-4c6d-857b-c084331fe363"
      },
      "execution_count": 204,
      "outputs": [
        {
          "output_type": "stream",
          "name": "stdout",
          "text": [
            "<class 'pandas.core.frame.DataFrame'>\n",
            "RangeIndex: 205380 entries, 0 to 205379\n",
            "Data columns (total 4 columns):\n",
            " #   Column        Non-Null Count   Dtype \n",
            "---  ------        --------------   ----- \n",
            " 0   title         205380 non-null  object\n",
            " 1   category      205380 non-null  object\n",
            " 2   sub_category  205380 non-null  object\n",
            " 3   price         205380 non-null  int64 \n",
            "dtypes: int64(1), object(3)\n",
            "memory usage: 6.3+ MB\n"
          ]
        }
      ]
    }
  ]
}